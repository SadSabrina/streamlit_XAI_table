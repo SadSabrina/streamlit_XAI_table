{
 "cells": [
  {
   "cell_type": "markdown",
   "id": "80abf5d2-9c11-4401-9cd2-e9f117b1cad8",
   "metadata": {},
   "source": [
    "## Тестовые гиперссылки"
   ]
  },
  {
   "cell_type": "code",
   "execution_count": 1,
   "id": "84c6f774-97f9-4fc1-a8a9-ca6823ee564d",
   "metadata": {},
   "outputs": [
    {
     "data": {
      "text/html": [
       "<div>\n",
       "<style scoped>\n",
       "    .dataframe tbody tr th:only-of-type {\n",
       "        vertical-align: middle;\n",
       "    }\n",
       "\n",
       "    .dataframe tbody tr th {\n",
       "        vertical-align: top;\n",
       "    }\n",
       "\n",
       "    .dataframe thead th {\n",
       "        text-align: right;\n",
       "    }\n",
       "</style>\n",
       "<table border=\"1\" class=\"dataframe\">\n",
       "  <thead>\n",
       "    <tr style=\"text-align: right;\">\n",
       "      <th></th>\n",
       "      <th>Site</th>\n",
       "      <th>URL</th>\n",
       "      <th>Link</th>\n",
       "    </tr>\n",
       "  </thead>\n",
       "  <tbody>\n",
       "    <tr>\n",
       "      <th>0</th>\n",
       "      <td>DuckDuckGo</td>\n",
       "      <td>https://duckduckgo.com/</td>\n",
       "      <td>&lt;a href=\"https://duckduckgo.com/\"&gt;🔗&lt;/a&gt;</td>\n",
       "    </tr>\n",
       "    <tr>\n",
       "      <th>1</th>\n",
       "      <td>Google</td>\n",
       "      <td>https://www.google.com/</td>\n",
       "      <td>&lt;a href=\"https://www.google.com/\"&gt;🔗&lt;/a&gt;</td>\n",
       "    </tr>\n",
       "    <tr>\n",
       "      <th>2</th>\n",
       "      <td>Bing</td>\n",
       "      <td>https://www.bing.com/</td>\n",
       "      <td>&lt;a href=\"https://www.bing.com/\"&gt;🔗&lt;/a&gt;</td>\n",
       "    </tr>\n",
       "  </tbody>\n",
       "</table>\n",
       "</div>"
      ],
      "text/plain": [
       "         Site                      URL  \\\n",
       "0  DuckDuckGo  https://duckduckgo.com/   \n",
       "1      Google  https://www.google.com/   \n",
       "2        Bing    https://www.bing.com/   \n",
       "\n",
       "                                      Link  \n",
       "0  <a href=\"https://duckduckgo.com/\">🔗</a>  \n",
       "1  <a href=\"https://www.google.com/\">🔗</a>  \n",
       "2    <a href=\"https://www.bing.com/\">🔗</a>  "
      ]
     },
     "execution_count": 1,
     "metadata": {},
     "output_type": "execute_result"
    }
   ],
   "source": [
    "#Libraries\n",
    "\n",
    "import streamlit as st\n",
    "import pandas as pd\n",
    "import plotly.graph_objects as go\n",
    "\n",
    "\n",
    "def create_link(url:str) -> str:\n",
    "    return f'''<a href=\"{url}\">🔗</a>'''\n",
    "\n",
    "\n",
    "#test dataframe\n",
    "test_df = pd.DataFrame(\n",
    "    {\"Site\": \"DuckDuckGo Google Bing\".split(),\n",
    "     \"URL\": \"https://duckduckgo.com/ https://www.google.com/ https://www.bing.com/\".split()}\n",
    ")\n",
    "\n",
    "test_df['Link'] = [create_link(url) for url in test_df[\"URL\"]]\n",
    "test_df"
   ]
  },
  {
   "cell_type": "markdown",
   "id": "8fb5227e-ba59-489a-b3f9-3acf01c8a37b",
   "metadata": {},
   "source": [
    "Пример ссылок со смайликами:\n",
    "'<a href=\"https://shap.readthedocs.io/en/latest/index.html\">🔗</a>\\n<a href=\"https://interpret.ml/docs/shap.html\">🔗</a>or see <a href=\"https://explainerdashboard.readthedocs.io/en/latest/dashboards.html\">🔗</a>'\n",
    "\n",
    "Пример ссылок с тесктом:\n",
    "'<a href=\"https://shap.readthedocs.io/en/latest/index.html\">shap</a>\\n<a href=\"https://interpret.ml/docs/shap.html\">interpret_ml</a>or see <a href=\"https://explainerdashboard.readthedocs.io/en/latest/dashboards.html\">explainer dashboard</a>'"
   ]
  },
  {
   "cell_type": "markdown",
   "id": "d02425c0-6ad6-43ee-86d1-e2a17b76c401",
   "metadata": {},
   "source": [
    "## Find a way to make your AI explainable"
   ]
  },
  {
   "cell_type": "markdown",
   "id": "51b61e74-08fa-4fa8-99e2-4230185d056c",
   "metadata": {},
   "source": [
    "Здесь вы можете найти библиотеку, предлагающую методы интерпретации моделей, под свою задачу. \n",
    "\n",
    "Классификация библиотек была реализована с учетом практических характеристик, влияющих на возможность и невозможность использовать соответствующие методы интерпретации. Было выявлено, что при практическом использовании выбор конкретной библиотеки будет зависеть от:\n",
    "- типа данных, на которых обучена модель\n",
    "- фреймворка, с помощью которого модель была обучена\n",
    "\n",
    "Соответственно, именно такая фильтрация реализована здесь. "
   ]
  },
  {
   "cell_type": "markdown",
   "id": "64beff51-c0fa-4244-9e4c-cc5e2d0c4888",
   "metadata": {},
   "source": [
    "Полезные ресурсы об Explainable AI:\n",
    "- Free book [\"Interpretable Machine Learning\"](https://christophm.github.io/interpretable-ml-book/) by Christoph Molnar"
   ]
  },
  {
   "cell_type": "code",
   "execution_count": 20,
   "id": "e416cd3d-2e9e-482a-9ad1-56a5dd944217",
   "metadata": {},
   "outputs": [
    {
     "data": {
      "text/html": [
       "<div>\n",
       "<style scoped>\n",
       "    .dataframe tbody tr th:only-of-type {\n",
       "        vertical-align: middle;\n",
       "    }\n",
       "\n",
       "    .dataframe tbody tr th {\n",
       "        vertical-align: top;\n",
       "    }\n",
       "\n",
       "    .dataframe thead th {\n",
       "        text-align: right;\n",
       "    }\n",
       "</style>\n",
       "<table border=\"1\" class=\"dataframe\">\n",
       "  <thead>\n",
       "    <tr style=\"text-align: right;\">\n",
       "      <th></th>\n",
       "      <th>Library</th>\n",
       "      <th>Hyperlink</th>\n",
       "      <th>Framework</th>\n",
       "      <th>DataType</th>\n",
       "    </tr>\n",
       "  </thead>\n",
       "  <tbody>\n",
       "    <tr>\n",
       "      <th>22</th>\n",
       "      <td>shapash</td>\n",
       "      <td>&lt;a href=\"https://github.com/MAIF/shapash#how_s...</td>\n",
       "      <td>scikit-learn, XGBoost, LightGBM, CatBoost</td>\n",
       "      <td>Tabular</td>\n",
       "    </tr>\n",
       "    <tr>\n",
       "      <th>23</th>\n",
       "      <td>AIX360</td>\n",
       "      <td>&lt;a href=\"https://github.com/Trusted-AI/AIX360\"...</td>\n",
       "      <td>scikit-learn, tensorflow</td>\n",
       "      <td>Texts, Images, Tabular</td>\n",
       "    </tr>\n",
       "    <tr>\n",
       "      <th>24</th>\n",
       "      <td>OMNIXai</td>\n",
       "      <td>&lt;a href=\"https://github.com/salesforce/OmniXAI...</td>\n",
       "      <td>Keras, pytorch</td>\n",
       "      <td>Texts, Images, Tabular, Time Series</td>\n",
       "    </tr>\n",
       "    <tr>\n",
       "      <th>25</th>\n",
       "      <td>saliency</td>\n",
       "      <td>&lt;a href=\"https://github.com/pair-code/saliency...</td>\n",
       "      <td>tensorflow, pytorch</td>\n",
       "      <td>Images</td>\n",
       "    </tr>\n",
       "    <tr>\n",
       "      <th>26</th>\n",
       "      <td>dalex</td>\n",
       "      <td>&lt;a href=\"https://dalex.drwhy.ai/#api-reference...</td>\n",
       "      <td>tensorflow, pytorch, keras, h2o, xgboost, auto...</td>\n",
       "      <td>Tabular</td>\n",
       "    </tr>\n",
       "  </tbody>\n",
       "</table>\n",
       "</div>"
      ],
      "text/plain": [
       "     Library                                          Hyperlink  \\\n",
       "22   shapash  <a href=\"https://github.com/MAIF/shapash#how_s...   \n",
       "23    AIX360  <a href=\"https://github.com/Trusted-AI/AIX360\"...   \n",
       "24   OMNIXai  <a href=\"https://github.com/salesforce/OmniXAI...   \n",
       "25  saliency  <a href=\"https://github.com/pair-code/saliency...   \n",
       "26     dalex  <a href=\"https://dalex.drwhy.ai/#api-reference...   \n",
       "\n",
       "                                            Framework  \\\n",
       "22          scikit-learn, XGBoost, LightGBM, CatBoost   \n",
       "23                           scikit-learn, tensorflow   \n",
       "24                                     Keras, pytorch   \n",
       "25                                tensorflow, pytorch   \n",
       "26  tensorflow, pytorch, keras, h2o, xgboost, auto...   \n",
       "\n",
       "                               DataType  \n",
       "22                              Tabular  \n",
       "23               Texts, Images, Tabular  \n",
       "24  Texts, Images, Tabular, Time Series  \n",
       "25                               Images  \n",
       "26                              Tabular  "
      ]
     },
     "execution_count": 20,
     "metadata": {},
     "output_type": "execute_result"
    }
   ],
   "source": [
    "#merged the general table\n",
    "merged_table = pd.read_csv('./data/merged_table2.csv', index_col=0)\n",
    "\n",
    "merged_table.tail()"
   ]
  },
  {
   "cell_type": "code",
   "execution_count": 21,
   "id": "9f5e6ae6-e80e-4eba-a4ad-baddf3fcc9b7",
   "metadata": {},
   "outputs": [],
   "source": [
    "def filter_dataframe(data, framework=None, dtype=None):\n",
    "\n",
    "    if framework and dtype:\n",
    "        to_schow = data[(data['Framework'].apply(lambda x: True if framework.lower() in x.lower() else False)) & (data['DataType'].apply(lambda x: True if dtype in x else False))]\n",
    "\n",
    "    elif framework:\n",
    "        to_schow = data[data['Framework'].apply(lambda x: True if framework in x else False)]\n",
    "        \n",
    "\n",
    "    elif dtype:\n",
    "        to_schow = data[data['DataType'].apply(lambda x: True if dtype in x else False)]\n",
    "\n",
    "    return to_schow\n",
    "    "
   ]
  },
  {
   "cell_type": "code",
   "execution_count": 27,
   "id": "3c3e4ffc-fe3a-4ad4-8ad4-5f1355f1afa6",
   "metadata": {},
   "outputs": [
    {
     "data": {
      "text/html": [
       "<div>\n",
       "<style scoped>\n",
       "    .dataframe tbody tr th:only-of-type {\n",
       "        vertical-align: middle;\n",
       "    }\n",
       "\n",
       "    .dataframe tbody tr th {\n",
       "        vertical-align: top;\n",
       "    }\n",
       "\n",
       "    .dataframe thead th {\n",
       "        text-align: right;\n",
       "    }\n",
       "</style>\n",
       "<table border=\"1\" class=\"dataframe\">\n",
       "  <thead>\n",
       "    <tr style=\"text-align: right;\">\n",
       "      <th></th>\n",
       "      <th>Library</th>\n",
       "      <th>Hyperlink</th>\n",
       "      <th>Framework</th>\n",
       "      <th>DataType</th>\n",
       "    </tr>\n",
       "  </thead>\n",
       "  <tbody>\n",
       "    <tr>\n",
       "      <th>0</th>\n",
       "      <td>eli5</td>\n",
       "      <td>&lt;a href=\"https://eli5.readthedocs.io/en/latest...</td>\n",
       "      <td>scikit-learn, XGBoost, LightGBM, CatBoost, Ker...</td>\n",
       "      <td>Texts, Images, Tabular, Graph</td>\n",
       "    </tr>\n",
       "    <tr>\n",
       "      <th>2</th>\n",
       "      <td>shap</td>\n",
       "      <td>&lt;a href=\"https://shap.readthedocs.io/en/latest...</td>\n",
       "      <td>scikit-learn, XGBoost, LightGBM, CatBoost,Kera...</td>\n",
       "      <td>Texts, Images, Tabular, Genomic</td>\n",
       "    </tr>\n",
       "    <tr>\n",
       "      <th>4</th>\n",
       "      <td>SALib</td>\n",
       "      <td>&lt;a href=\"https://salib.readthedocs.io/en/lates...</td>\n",
       "      <td>Keras</td>\n",
       "      <td>Tabular</td>\n",
       "    </tr>\n",
       "    <tr>\n",
       "      <th>5</th>\n",
       "      <td>LIME</td>\n",
       "      <td>&lt;a href=\"https://github.com/marcotcr/lime?yscl...</td>\n",
       "      <td>scikit-learn, Keras, tensorflow, pytorch</td>\n",
       "      <td>Texts, Images, Tabular</td>\n",
       "    </tr>\n",
       "    <tr>\n",
       "      <th>7</th>\n",
       "      <td>dice-ml</td>\n",
       "      <td>&lt;a href=\"https://interpret.ml/DiCE/dice_ml.htm...</td>\n",
       "      <td>scikit-learn, Keras, tensorflow, pytorch</td>\n",
       "      <td>Tabular</td>\n",
       "    </tr>\n",
       "    <tr>\n",
       "      <th>12</th>\n",
       "      <td>skater (DOESN'T WORK 13.01.24)</td>\n",
       "      <td>&lt;a href=\"https://github.com/oracle/Skater?yscl...</td>\n",
       "      <td>scikit-learn, XGBoost, Keras</td>\n",
       "      <td>Texts, Images, Tabular</td>\n",
       "    </tr>\n",
       "    <tr>\n",
       "      <th>18</th>\n",
       "      <td>Permutation Importance</td>\n",
       "      <td>&lt;a href=\"https://permutationimportance.readthe...</td>\n",
       "      <td>scikit-learn, Keras</td>\n",
       "      <td>Texts, Tabular</td>\n",
       "    </tr>\n",
       "    <tr>\n",
       "      <th>19</th>\n",
       "      <td>Quantus</td>\n",
       "      <td>&lt;a href=\"https://github.com/understandable-mac...</td>\n",
       "      <td>Keras, tensorflow, pytorch, transformers</td>\n",
       "      <td>Images, Tabular</td>\n",
       "    </tr>\n",
       "    <tr>\n",
       "      <th>24</th>\n",
       "      <td>OMNIXai</td>\n",
       "      <td>&lt;a href=\"https://github.com/salesforce/OmniXAI...</td>\n",
       "      <td>Keras, pytorch</td>\n",
       "      <td>Texts, Images, Tabular, Time Series</td>\n",
       "    </tr>\n",
       "    <tr>\n",
       "      <th>26</th>\n",
       "      <td>dalex</td>\n",
       "      <td>&lt;a href=\"https://dalex.drwhy.ai/#api-reference...</td>\n",
       "      <td>tensorflow, pytorch, keras, h2o, xgboost, auto...</td>\n",
       "      <td>Tabular</td>\n",
       "    </tr>\n",
       "  </tbody>\n",
       "</table>\n",
       "</div>"
      ],
      "text/plain": [
       "                           Library  \\\n",
       "0                             eli5   \n",
       "2                             shap   \n",
       "4                            SALib   \n",
       "5                             LIME   \n",
       "7                          dice-ml   \n",
       "12  skater (DOESN'T WORK 13.01.24)   \n",
       "18          Permutation Importance   \n",
       "19                         Quantus   \n",
       "24                         OMNIXai   \n",
       "26                           dalex   \n",
       "\n",
       "                                            Hyperlink  \\\n",
       "0   <a href=\"https://eli5.readthedocs.io/en/latest...   \n",
       "2   <a href=\"https://shap.readthedocs.io/en/latest...   \n",
       "4   <a href=\"https://salib.readthedocs.io/en/lates...   \n",
       "5   <a href=\"https://github.com/marcotcr/lime?yscl...   \n",
       "7   <a href=\"https://interpret.ml/DiCE/dice_ml.htm...   \n",
       "12  <a href=\"https://github.com/oracle/Skater?yscl...   \n",
       "18  <a href=\"https://permutationimportance.readthe...   \n",
       "19  <a href=\"https://github.com/understandable-mac...   \n",
       "24  <a href=\"https://github.com/salesforce/OmniXAI...   \n",
       "26  <a href=\"https://dalex.drwhy.ai/#api-reference...   \n",
       "\n",
       "                                            Framework  \\\n",
       "0   scikit-learn, XGBoost, LightGBM, CatBoost, Ker...   \n",
       "2   scikit-learn, XGBoost, LightGBM, CatBoost,Kera...   \n",
       "4                                               Keras   \n",
       "5            scikit-learn, Keras, tensorflow, pytorch   \n",
       "7            scikit-learn, Keras, tensorflow, pytorch   \n",
       "12                       scikit-learn, XGBoost, Keras   \n",
       "18                                scikit-learn, Keras   \n",
       "19           Keras, tensorflow, pytorch, transformers   \n",
       "24                                     Keras, pytorch   \n",
       "26  tensorflow, pytorch, keras, h2o, xgboost, auto...   \n",
       "\n",
       "                               DataType  \n",
       "0         Texts, Images, Tabular, Graph  \n",
       "2       Texts, Images, Tabular, Genomic  \n",
       "4                               Tabular  \n",
       "5                Texts, Images, Tabular  \n",
       "7                               Tabular  \n",
       "12               Texts, Images, Tabular  \n",
       "18                       Texts, Tabular  \n",
       "19                      Images, Tabular  \n",
       "24  Texts, Images, Tabular, Time Series  \n",
       "26                              Tabular  "
      ]
     },
     "execution_count": 27,
     "metadata": {},
     "output_type": "execute_result"
    }
   ],
   "source": [
    "filter_dataframe(merged_table, 'Keras', 'Tabular')"
   ]
  },
  {
   "cell_type": "code",
   "execution_count": 71,
   "id": "48e5e8fc-b6ce-4cea-b172-596cf801ab05",
   "metadata": {},
   "outputs": [],
   "source": [
    "frameworks_list = merged_table['Framework'].value_counts().index.to_list()\n",
    "frameworks_list = [x.split(',') for x in frameworks_list]"
   ]
  },
  {
   "cell_type": "code",
   "execution_count": 72,
   "id": "0eb5eb19-b77e-4b32-9b44-9e13684653b1",
   "metadata": {},
   "outputs": [],
   "source": [
    "merged_list = []\n",
    "\n",
    "# Проходим по каждому списку в основном списке\n",
    "for sublist in frameworks_list:\n",
    "    # Добавляем элементы текущего списка в новый список\n",
    "    merged_list.extend(sublist)"
   ]
  },
  {
   "cell_type": "code",
   "execution_count": 75,
   "id": "84198245-7ac9-43b4-85e7-1eca3fca1a7a",
   "metadata": {},
   "outputs": [
    {
     "data": {
      "text/plain": [
       "['skorch',\n",
       " 'scikit-learn',\n",
       " 'SciPy',\n",
       " 'LightGBM',\n",
       " 'tensorflow',\n",
       " 'XGBoost',\n",
       " 'lightning',\n",
       " 'sklearn-crfsuite',\n",
       " 'Keras',\n",
       " 'Keras',\n",
       " 'pytorch',\n",
       " 'transformers',\n",
       " 'pyspark',\n",
       " 'pytorch',\n",
       " 'CatBoost',\n",
       " 'tensorflow',\n",
       " 'transformers']"
      ]
     },
     "execution_count": 75,
     "metadata": {},
     "output_type": "execute_result"
    }
   ],
   "source": [
    "[i.replace(' ', '') for i in set(merged_list)]"
   ]
  },
  {
   "cell_type": "code",
   "execution_count": 55,
   "id": "f6987381-4d4e-4a89-8ad6-4c697d82fc70",
   "metadata": {},
   "outputs": [
    {
     "data": {
      "application/vnd.plotly.v1+json": {
       "config": {
        "plotlyServerURL": "https://plot.ly"
       },
       "data": [
        {
         "cells": {
          "fill": {
           "color": "lavender"
          },
          "values": [
           [
            "eli5",
            "pdpbox",
            "shap",
            "deeplift",
            "SALib",
            "LIME",
            "interpretML",
            "dice-ml ",
            "interpret-text",
            "treeinterpreter",
            "graphviz-ML",
            "captum (with VPN)",
            "skater (DOESN'T WORK 13.01.24) ",
            "transformers-interpret",
            "bertviz",
            "alibi",
            "treeInterpreter",
            "Explainer dashboard",
            "Permutation Importance",
            "Quantus",
            "tf-explain",
            "zennit",
            "shapash",
            "AIX360",
            "OMNIXai"
           ],
           [
            "https://eli5.readthedocs.io/en/latest/",
            "https://pdpbox.readthedocs.io/en/latest/",
            "https://shap.readthedocs.io/en/latest/index.html",
            "https://github.com/kundajelab/deeplift",
            "https://salib.readthedocs.io/en/latest/index.html",
            "https://github.com/marcotcr/lime?ysclid=lde9mmnb1o897888624",
            "https://interpret.ml/docs/intro.html",
            "https://interpret.ml/DiCE/dice_ml.html#",
            "https://github.com/interpretml/interpret-text?ysclid=ldebiwr4jr824513795",
            "https://github.com/andosa/treeinterpreter?ysclid=ldebcszqa569676653",
            "https://github.com/MrColoratus/graphviz-ML?ysclid=lf6msa8oig976631200",
            "https://captum.ai/",
            "https://github.com/oracle/Skater?ysclid=ldimcqkpbg991351715",
            "https://github.com/cdpierse/transformers-interpret?ysclid=ldooagvbpq193759438",
            "https://github.com/jessevig/bertviz?ysclid=lf3tgglrjl425622230",
            "https://github.com/SeldonIO/alibi",
            "https://github.com/andosa/treeinterpreter",
            "https://explainerdashboard.readthedocs.io/en/latest/dashboards.html",
            "https://permutationimportance.readthedocs.io/en/latest/index.html",
            "https://github.com/understandable-machine-intelligence-lab/Quantus",
            "https://tf-explain.readthedocs.io/en/latest/",
            "https://github.com/chr5tphr/zennit",
            "https://github.com/MAIF/shapash#how_shapash_works",
            "https://github.com/Trusted-AI/AIX360",
            "https://github.com/salesforce/OmniXAI"
           ],
           [
            "<a href=\"https://eli5.readthedocs.io/en/latest/\">🔗</a>",
            "<a href=\"https://pdpbox.readthedocs.io/en/latest/\">🔗</a>",
            "<a href=\"https://shap.readthedocs.io/en/latest/index.html\">🔗</a>",
            "<a href=\"https://github.com/kundajelab/deeplift\">🔗</a>",
            "<a href=\"https://salib.readthedocs.io/en/latest/index.html\">🔗</a>",
            "<a href=\"https://github.com/marcotcr/lime?ysclid=lde9mmnb1o897888624\">🔗</a>",
            "<a href=\"https://interpret.ml/docs/intro.html\">🔗</a>",
            "<a href=\"https://interpret.ml/DiCE/dice_ml.html#\">🔗</a>",
            "<a href=\"https://github.com/interpretml/interpret-text?ysclid=ldebiwr4jr824513795\">🔗</a>",
            "<a href=\"https://github.com/andosa/treeinterpreter?ysclid=ldebcszqa569676653\">🔗</a>",
            "<a href=\"https://github.com/MrColoratus/graphviz-ML?ysclid=lf6msa8oig976631200\">🔗</a>",
            "<a href=\"https://captum.ai/\">🔗</a>",
            "<a href=\"https://github.com/oracle/Skater?ysclid=ldimcqkpbg991351715\">🔗</a>",
            "<a href=\"https://github.com/cdpierse/transformers-interpret?ysclid=ldooagvbpq193759438\">🔗</a>",
            "<a href=\"https://github.com/jessevig/bertviz?ysclid=lf3tgglrjl425622230\">🔗</a>",
            "<a href=\"https://github.com/SeldonIO/alibi\">🔗</a>",
            "<a href=\"https://github.com/andosa/treeinterpreter\">🔗</a>",
            "<a href=\"https://explainerdashboard.readthedocs.io/en/latest/dashboards.html\">🔗</a>",
            "<a href=\"https://permutationimportance.readthedocs.io/en/latest/index.html\">🔗</a>",
            "<a href=\"https://github.com/understandable-machine-intelligence-lab/Quantus\">🔗</a>",
            "<a href=\"https://tf-explain.readthedocs.io/en/latest/\">🔗</a>",
            "<a href=\"https://github.com/chr5tphr/zennit\">🔗</a>",
            "<a href=\"https://github.com/MAIF/shapash#how_shapash_works\">🔗</a>",
            "<a href=\"https://github.com/Trusted-AI/AIX360\">🔗</a>",
            "<a href=\"https://github.com/salesforce/OmniXAI\">🔗</a>"
           ],
           [
            "scikit-learn, XGBoost, LightGBM, CatBoost, Keras, sklearn-crfsuite, lightning",
            "scikit-learn",
            "scikit-learn, XGBoost, LightGBM, CatBoost,Keras, tensorflow, pytorch, pyspark, transformers",
            "Keras",
            "Keras",
            "scikit-learn, Keras, tensorflow, pytorch",
            "scikit-learn",
            "scikit-learn, Keras, tensorflow, pytorch",
            "scikit-learn, pytorch",
            "scikit-learn",
            "scikit-learn, SciPy",
            "pytorch",
            "scikit-learn, XGBoost, Keras",
            "transformers",
            "transformers",
            "scikit-learn, Keras, tensorflow, pytorch",
            "scikit-learn",
            "scikit-learn, skorch",
            "scikit-learn, Keras",
            "Keras, tensorflow, pytorch, transformers",
            "tensorflow",
            "pytorch",
            "scikit-learn, XGBoost, LightGBM, CatBoost",
            "scikit-learn, tensorflow",
            "Keras, pytorch"
           ],
           [
            "Texts, Images, Tabular, Graph",
            "Tabular",
            "Texts, Images, Tabular, Genomic",
            "Texts, Images, Genomic",
            "Tabular",
            "Texts, Images, Tabular",
            "Tabular",
            "Tabular",
            "Texts",
            "Tabular",
            "Tabular",
            "Texts, Images, Tabular",
            "Texts, Images, Tabular",
            "Texts, Images",
            "Texts",
            "Graph",
            "Texts, Images, Tabular",
            "Texts, Images, Tabular",
            "Texts, Tabular",
            "Images, Tabular",
            "Texts, Images, Tabular",
            "Texts, Images, Tabular",
            "Tabular",
            "Texts, Images, Tabular",
            "Texts, Images, Tabular, Time Series"
           ]
          ]
         },
         "columnwidth": [
          0.8,
          0.8,
          1,
          3
         ],
         "header": {
          "fill": {
           "color": "pink"
          },
          "values": [
           "<b>Library</b>",
           "<b>Link</b>",
           "<b>Hyperlink</b>",
           "<b>Framework</b>",
           "<b>DataType</b>"
          ]
         },
         "type": "table"
        }
       ],
       "layout": {
        "autosize": true,
        "template": {
         "data": {
          "candlestick": [
           {
            "decreasing": {
             "line": {
              "color": "#000033"
             }
            },
            "increasing": {
             "line": {
              "color": "#000032"
             }
            },
            "type": "candlestick"
           }
          ],
          "contour": [
           {
            "colorscale": [
             [
              0,
              "#000011"
             ],
             [
              0.1111111111111111,
              "#000012"
             ],
             [
              0.2222222222222222,
              "#000013"
             ],
             [
              0.3333333333333333,
              "#000014"
             ],
             [
              0.4444444444444444,
              "#000015"
             ],
             [
              0.5555555555555556,
              "#000016"
             ],
             [
              0.6666666666666666,
              "#000017"
             ],
             [
              0.7777777777777778,
              "#000018"
             ],
             [
              0.8888888888888888,
              "#000019"
             ],
             [
              1,
              "#000020"
             ]
            ],
            "type": "contour"
           }
          ],
          "contourcarpet": [
           {
            "colorscale": [
             [
              0,
              "#000011"
             ],
             [
              0.1111111111111111,
              "#000012"
             ],
             [
              0.2222222222222222,
              "#000013"
             ],
             [
              0.3333333333333333,
              "#000014"
             ],
             [
              0.4444444444444444,
              "#000015"
             ],
             [
              0.5555555555555556,
              "#000016"
             ],
             [
              0.6666666666666666,
              "#000017"
             ],
             [
              0.7777777777777778,
              "#000018"
             ],
             [
              0.8888888888888888,
              "#000019"
             ],
             [
              1,
              "#000020"
             ]
            ],
            "type": "contourcarpet"
           }
          ],
          "heatmap": [
           {
            "colorscale": [
             [
              0,
              "#000011"
             ],
             [
              0.1111111111111111,
              "#000012"
             ],
             [
              0.2222222222222222,
              "#000013"
             ],
             [
              0.3333333333333333,
              "#000014"
             ],
             [
              0.4444444444444444,
              "#000015"
             ],
             [
              0.5555555555555556,
              "#000016"
             ],
             [
              0.6666666666666666,
              "#000017"
             ],
             [
              0.7777777777777778,
              "#000018"
             ],
             [
              0.8888888888888888,
              "#000019"
             ],
             [
              1,
              "#000020"
             ]
            ],
            "type": "heatmap"
           }
          ],
          "histogram2d": [
           {
            "colorscale": [
             [
              0,
              "#000011"
             ],
             [
              0.1111111111111111,
              "#000012"
             ],
             [
              0.2222222222222222,
              "#000013"
             ],
             [
              0.3333333333333333,
              "#000014"
             ],
             [
              0.4444444444444444,
              "#000015"
             ],
             [
              0.5555555555555556,
              "#000016"
             ],
             [
              0.6666666666666666,
              "#000017"
             ],
             [
              0.7777777777777778,
              "#000018"
             ],
             [
              0.8888888888888888,
              "#000019"
             ],
             [
              1,
              "#000020"
             ]
            ],
            "type": "histogram2d"
           }
          ],
          "icicle": [
           {
            "textfont": {
             "color": "white"
            },
            "type": "icicle"
           }
          ],
          "sankey": [
           {
            "textfont": {
             "color": "#000036"
            },
            "type": "sankey"
           }
          ],
          "scatter": [
           {
            "marker": {
             "line": {
              "width": 0
             }
            },
            "type": "scatter"
           }
          ],
          "table": [
           {
            "cells": {
             "fill": {
              "color": "#000038"
             },
             "font": {
              "color": "#000037"
             },
             "line": {
              "color": "#000039"
             }
            },
            "header": {
             "fill": {
              "color": "#000040"
             },
             "font": {
              "color": "#000036"
             },
             "line": {
              "color": "#000039"
             }
            },
            "type": "table"
           }
          ],
          "waterfall": [
           {
            "connector": {
             "line": {
              "color": "#000036",
              "width": 2
             }
            },
            "decreasing": {
             "marker": {
              "color": "#000033"
             }
            },
            "increasing": {
             "marker": {
              "color": "#000032"
             }
            },
            "totals": {
             "marker": {
              "color": "#000034"
             }
            },
            "type": "waterfall"
           }
          ]
         },
         "layout": {
          "coloraxis": {
           "colorscale": [
            [
             0,
             "#000011"
            ],
            [
             0.1111111111111111,
             "#000012"
            ],
            [
             0.2222222222222222,
             "#000013"
            ],
            [
             0.3333333333333333,
             "#000014"
            ],
            [
             0.4444444444444444,
             "#000015"
            ],
            [
             0.5555555555555556,
             "#000016"
            ],
            [
             0.6666666666666666,
             "#000017"
            ],
            [
             0.7777777777777778,
             "#000018"
            ],
            [
             0.8888888888888888,
             "#000019"
            ],
            [
             1,
             "#000020"
            ]
           ]
          },
          "colorscale": {
           "diverging": [
            [
             0,
             "#000021"
            ],
            [
             0.1,
             "#000022"
            ],
            [
             0.2,
             "#000023"
            ],
            [
             0.3,
             "#000024"
            ],
            [
             0.4,
             "#000025"
            ],
            [
             0.5,
             "#000026"
            ],
            [
             0.6,
             "#000027"
            ],
            [
             0.7,
             "#000028"
            ],
            [
             0.8,
             "#000029"
            ],
            [
             0.9,
             "#000030"
            ],
            [
             1,
             "#000031"
            ]
           ],
           "sequential": [
            [
             0,
             "#000011"
            ],
            [
             0.1111111111111111,
             "#000012"
            ],
            [
             0.2222222222222222,
             "#000013"
            ],
            [
             0.3333333333333333,
             "#000014"
            ],
            [
             0.4444444444444444,
             "#000015"
            ],
            [
             0.5555555555555556,
             "#000016"
            ],
            [
             0.6666666666666666,
             "#000017"
            ],
            [
             0.7777777777777778,
             "#000018"
            ],
            [
             0.8888888888888888,
             "#000019"
            ],
            [
             1,
             "#000020"
            ]
           ],
           "sequentialminus": [
            [
             0,
             "#000011"
            ],
            [
             0.1111111111111111,
             "#000012"
            ],
            [
             0.2222222222222222,
             "#000013"
            ],
            [
             0.3333333333333333,
             "#000014"
            ],
            [
             0.4444444444444444,
             "#000015"
            ],
            [
             0.5555555555555556,
             "#000016"
            ],
            [
             0.6666666666666666,
             "#000017"
            ],
            [
             0.7777777777777778,
             "#000018"
            ],
            [
             0.8888888888888888,
             "#000019"
            ],
            [
             1,
             "#000020"
            ]
           ]
          },
          "colorway": [
           "#000001",
           "#000002",
           "#000003",
           "#000004",
           "#000005",
           "#000006",
           "#000007",
           "#000008",
           "#000009",
           "#000010"
          ]
         }
        }
       }
      },
      "image/png": "[encoded data removed]",
      "text/html": [
       "<div>                            <div id=\"cdea25c1-8fcb-4b75-a545-30efaf8342d3\" class=\"plotly-graph-div\" style=\"height:525px; width:100%;\"></div>            <script type=\"text/javascript\">                require([\"plotly\"], function(Plotly) {                    window.PLOTLYENV=window.PLOTLYENV || {};                                    if (document.getElementById(\"cdea25c1-8fcb-4b75-a545-30efaf8342d3\")) {                    Plotly.newPlot(                        \"cdea25c1-8fcb-4b75-a545-30efaf8342d3\",                        [{\"cells\":{\"fill\":{\"color\":\"lavender\"},\"values\":[[\"eli5\",\"pdpbox\",\"shap\",\"deeplift\",\"SALib\",\"LIME\",\"interpretML\",\"dice-ml \",\"interpret-text\",\"treeinterpreter\",\"graphviz-ML\",\"captum (with VPN)\",\"skater (DOESN'T WORK 13.01.24) \",\"transformers-interpret\",\"bertviz\",\"alibi\",\"treeInterpreter\",\"Explainer dashboard\",\"Permutation Importance\",\"Quantus\",\"tf-explain\",\"zennit\",\"shapash\",\"AIX360\",\"OMNIXai\"],[\"https:\\u002f\\u002feli5.readthedocs.io\\u002fen\\u002flatest\\u002f\",\"https:\\u002f\\u002fpdpbox.readthedocs.io\\u002fen\\u002flatest\\u002f\",\"https:\\u002f\\u002fshap.readthedocs.io\\u002fen\\u002flatest\\u002findex.html\",\"https:\\u002f\\u002fgithub.com\\u002fkundajelab\\u002fdeeplift\",\"https:\\u002f\\u002fsalib.readthedocs.io\\u002fen\\u002flatest\\u002findex.html\",\"https:\\u002f\\u002fgithub.com\\u002fmarcotcr\\u002flime?ysclid=lde9mmnb1o897888624\",\"https:\\u002f\\u002finterpret.ml\\u002fdocs\\u002fintro.html\",\"https:\\u002f\\u002finterpret.ml\\u002fDiCE\\u002fdice_ml.html#\",\"https:\\u002f\\u002fgithub.com\\u002finterpretml\\u002finterpret-text?ysclid=ldebiwr4jr824513795\",\"https:\\u002f\\u002fgithub.com\\u002fandosa\\u002ftreeinterpreter?ysclid=ldebcszqa569676653\",\"https:\\u002f\\u002fgithub.com\\u002fMrColoratus\\u002fgraphviz-ML?ysclid=lf6msa8oig976631200\",\"https:\\u002f\\u002fcaptum.ai\\u002f\",\"https:\\u002f\\u002fgithub.com\\u002foracle\\u002fSkater?ysclid=ldimcqkpbg991351715\",\"https:\\u002f\\u002fgithub.com\\u002fcdpierse\\u002ftransformers-interpret?ysclid=ldooagvbpq193759438\",\"https:\\u002f\\u002fgithub.com\\u002fjessevig\\u002fbertviz?ysclid=lf3tgglrjl425622230\",\"https:\\u002f\\u002fgithub.com\\u002fSeldonIO\\u002falibi\",\"https:\\u002f\\u002fgithub.com\\u002fandosa\\u002ftreeinterpreter\",\"https:\\u002f\\u002fexplainerdashboard.readthedocs.io\\u002fen\\u002flatest\\u002fdashboards.html\",\"https:\\u002f\\u002fpermutationimportance.readthedocs.io\\u002fen\\u002flatest\\u002findex.html\",\"https:\\u002f\\u002fgithub.com\\u002funderstandable-machine-intelligence-lab\\u002fQuantus\",\"https:\\u002f\\u002ftf-explain.readthedocs.io\\u002fen\\u002flatest\\u002f\",\"https:\\u002f\\u002fgithub.com\\u002fchr5tphr\\u002fzennit\",\"https:\\u002f\\u002fgithub.com\\u002fMAIF\\u002fshapash#how_shapash_works\",\"https:\\u002f\\u002fgithub.com\\u002fTrusted-AI\\u002fAIX360\",\"https:\\u002f\\u002fgithub.com\\u002fsalesforce\\u002fOmniXAI\"],[\"\\u003ca href=\\\"https:\\u002f\\u002feli5.readthedocs.io\\u002fen\\u002flatest\\u002f\\\"\\u003e\\ud83d\\udd17\\u003c\\u002fa\\u003e\",\"\\u003ca href=\\\"https:\\u002f\\u002fpdpbox.readthedocs.io\\u002fen\\u002flatest\\u002f\\\"\\u003e\\ud83d\\udd17\\u003c\\u002fa\\u003e\",\"\\u003ca href=\\\"https:\\u002f\\u002fshap.readthedocs.io\\u002fen\\u002flatest\\u002findex.html\\\"\\u003e\\ud83d\\udd17\\u003c\\u002fa\\u003e\",\"\\u003ca href=\\\"https:\\u002f\\u002fgithub.com\\u002fkundajelab\\u002fdeeplift\\\"\\u003e\\ud83d\\udd17\\u003c\\u002fa\\u003e\",\"\\u003ca href=\\\"https:\\u002f\\u002fsalib.readthedocs.io\\u002fen\\u002flatest\\u002findex.html\\\"\\u003e\\ud83d\\udd17\\u003c\\u002fa\\u003e\",\"\\u003ca href=\\\"https:\\u002f\\u002fgithub.com\\u002fmarcotcr\\u002flime?ysclid=lde9mmnb1o897888624\\\"\\u003e\\ud83d\\udd17\\u003c\\u002fa\\u003e\",\"\\u003ca href=\\\"https:\\u002f\\u002finterpret.ml\\u002fdocs\\u002fintro.html\\\"\\u003e\\ud83d\\udd17\\u003c\\u002fa\\u003e\",\"\\u003ca href=\\\"https:\\u002f\\u002finterpret.ml\\u002fDiCE\\u002fdice_ml.html#\\\"\\u003e\\ud83d\\udd17\\u003c\\u002fa\\u003e\",\"\\u003ca href=\\\"https:\\u002f\\u002fgithub.com\\u002finterpretml\\u002finterpret-text?ysclid=ldebiwr4jr824513795\\\"\\u003e\\ud83d\\udd17\\u003c\\u002fa\\u003e\",\"\\u003ca href=\\\"https:\\u002f\\u002fgithub.com\\u002fandosa\\u002ftreeinterpreter?ysclid=ldebcszqa569676653\\\"\\u003e\\ud83d\\udd17\\u003c\\u002fa\\u003e\",\"\\u003ca href=\\\"https:\\u002f\\u002fgithub.com\\u002fMrColoratus\\u002fgraphviz-ML?ysclid=lf6msa8oig976631200\\\"\\u003e\\ud83d\\udd17\\u003c\\u002fa\\u003e\",\"\\u003ca href=\\\"https:\\u002f\\u002fcaptum.ai\\u002f\\\"\\u003e\\ud83d\\udd17\\u003c\\u002fa\\u003e\",\"\\u003ca href=\\\"https:\\u002f\\u002fgithub.com\\u002foracle\\u002fSkater?ysclid=ldimcqkpbg991351715\\\"\\u003e\\ud83d\\udd17\\u003c\\u002fa\\u003e\",\"\\u003ca href=\\\"https:\\u002f\\u002fgithub.com\\u002fcdpierse\\u002ftransformers-interpret?ysclid=ldooagvbpq193759438\\\"\\u003e\\ud83d\\udd17\\u003c\\u002fa\\u003e\",\"\\u003ca href=\\\"https:\\u002f\\u002fgithub.com\\u002fjessevig\\u002fbertviz?ysclid=lf3tgglrjl425622230\\\"\\u003e\\ud83d\\udd17\\u003c\\u002fa\\u003e\",\"\\u003ca href=\\\"https:\\u002f\\u002fgithub.com\\u002fSeldonIO\\u002falibi\\\"\\u003e\\ud83d\\udd17\\u003c\\u002fa\\u003e\",\"\\u003ca href=\\\"https:\\u002f\\u002fgithub.com\\u002fandosa\\u002ftreeinterpreter\\\"\\u003e\\ud83d\\udd17\\u003c\\u002fa\\u003e\",\"\\u003ca href=\\\"https:\\u002f\\u002fexplainerdashboard.readthedocs.io\\u002fen\\u002flatest\\u002fdashboards.html\\\"\\u003e\\ud83d\\udd17\\u003c\\u002fa\\u003e\",\"\\u003ca href=\\\"https:\\u002f\\u002fpermutationimportance.readthedocs.io\\u002fen\\u002flatest\\u002findex.html\\\"\\u003e\\ud83d\\udd17\\u003c\\u002fa\\u003e\",\"\\u003ca href=\\\"https:\\u002f\\u002fgithub.com\\u002funderstandable-machine-intelligence-lab\\u002fQuantus\\\"\\u003e\\ud83d\\udd17\\u003c\\u002fa\\u003e\",\"\\u003ca href=\\\"https:\\u002f\\u002ftf-explain.readthedocs.io\\u002fen\\u002flatest\\u002f\\\"\\u003e\\ud83d\\udd17\\u003c\\u002fa\\u003e\",\"\\u003ca href=\\\"https:\\u002f\\u002fgithub.com\\u002fchr5tphr\\u002fzennit\\\"\\u003e\\ud83d\\udd17\\u003c\\u002fa\\u003e\",\"\\u003ca href=\\\"https:\\u002f\\u002fgithub.com\\u002fMAIF\\u002fshapash#how_shapash_works\\\"\\u003e\\ud83d\\udd17\\u003c\\u002fa\\u003e\",\"\\u003ca href=\\\"https:\\u002f\\u002fgithub.com\\u002fTrusted-AI\\u002fAIX360\\\"\\u003e\\ud83d\\udd17\\u003c\\u002fa\\u003e\",\"\\u003ca href=\\\"https:\\u002f\\u002fgithub.com\\u002fsalesforce\\u002fOmniXAI\\\"\\u003e\\ud83d\\udd17\\u003c\\u002fa\\u003e\"],[\"scikit-learn, XGBoost, LightGBM, CatBoost, Keras, sklearn-crfsuite, lightning\",\"scikit-learn\",\"scikit-learn, XGBoost, LightGBM, CatBoost,Keras, tensorflow, pytorch, pyspark, transformers\",\"Keras\",\"Keras\",\"scikit-learn, Keras, tensorflow, pytorch\",\"scikit-learn\",\"scikit-learn, Keras, tensorflow, pytorch\",\"scikit-learn, pytorch\",\"scikit-learn\",\"scikit-learn, SciPy\",\"pytorch\",\"scikit-learn, XGBoost, Keras\",\"transformers\",\"transformers\",\"scikit-learn, Keras, tensorflow, pytorch\",\"scikit-learn\",\"scikit-learn, skorch\",\"scikit-learn, Keras\",\"Keras, tensorflow, pytorch, transformers\",\"tensorflow\",\"pytorch\",\"scikit-learn, XGBoost, LightGBM, CatBoost\",\"scikit-learn, tensorflow\",\"Keras, pytorch\"],[\"Texts, Images, Tabular, Graph\",\"Tabular\",\"Texts, Images, Tabular, Genomic\",\"Texts, Images, Genomic\",\"Tabular\",\"Texts, Images, Tabular\",\"Tabular\",\"Tabular\",\"Texts\",\"Tabular\",\"Tabular\",\"Texts, Images, Tabular\",\"Texts, Images, Tabular\",\"Texts, Images\",\"Texts\",\"Graph\",\"Texts, Images, Tabular\",\"Texts, Images, Tabular\",\"Texts, Tabular\",\"Images, Tabular\",\"Texts, Images, Tabular\",\"Texts, Images, Tabular\",\"Tabular\",\"Texts, Images, Tabular\",\"Texts, Images, Tabular, Time Series\"]]},\"columnwidth\":[0.8,0.8,1,3],\"header\":{\"fill\":{\"color\":\"pink\"},\"values\":[\"\\u003cb\\u003eLibrary\\u003c\\u002fb\\u003e\",\"\\u003cb\\u003eLink\\u003c\\u002fb\\u003e\",\"\\u003cb\\u003eHyperlink\\u003c\\u002fb\\u003e\",\"\\u003cb\\u003eFramework\\u003c\\u002fb\\u003e\",\"\\u003cb\\u003eDataType\\u003c\\u002fb\\u003e\"]},\"type\":\"table\"}],                        {\"template\":{\"data\":{\"candlestick\":[{\"decreasing\":{\"line\":{\"color\":\"#000033\"}},\"increasing\":{\"line\":{\"color\":\"#000032\"}},\"type\":\"candlestick\"}],\"contourcarpet\":[{\"colorscale\":[[0.0,\"#000011\"],[0.1111111111111111,\"#000012\"],[0.2222222222222222,\"#000013\"],[0.3333333333333333,\"#000014\"],[0.4444444444444444,\"#000015\"],[0.5555555555555556,\"#000016\"],[0.6666666666666666,\"#000017\"],[0.7777777777777778,\"#000018\"],[0.8888888888888888,\"#000019\"],[1.0,\"#000020\"]],\"type\":\"contourcarpet\"}],\"contour\":[{\"colorscale\":[[0.0,\"#000011\"],[0.1111111111111111,\"#000012\"],[0.2222222222222222,\"#000013\"],[0.3333333333333333,\"#000014\"],[0.4444444444444444,\"#000015\"],[0.5555555555555556,\"#000016\"],[0.6666666666666666,\"#000017\"],[0.7777777777777778,\"#000018\"],[0.8888888888888888,\"#000019\"],[1.0,\"#000020\"]],\"type\":\"contour\"}],\"heatmap\":[{\"colorscale\":[[0.0,\"#000011\"],[0.1111111111111111,\"#000012\"],[0.2222222222222222,\"#000013\"],[0.3333333333333333,\"#000014\"],[0.4444444444444444,\"#000015\"],[0.5555555555555556,\"#000016\"],[0.6666666666666666,\"#000017\"],[0.7777777777777778,\"#000018\"],[0.8888888888888888,\"#000019\"],[1.0,\"#000020\"]],\"type\":\"heatmap\"}],\"histogram2d\":[{\"colorscale\":[[0.0,\"#000011\"],[0.1111111111111111,\"#000012\"],[0.2222222222222222,\"#000013\"],[0.3333333333333333,\"#000014\"],[0.4444444444444444,\"#000015\"],[0.5555555555555556,\"#000016\"],[0.6666666666666666,\"#000017\"],[0.7777777777777778,\"#000018\"],[0.8888888888888888,\"#000019\"],[1.0,\"#000020\"]],\"type\":\"histogram2d\"}],\"icicle\":[{\"textfont\":{\"color\":\"white\"},\"type\":\"icicle\"}],\"sankey\":[{\"textfont\":{\"color\":\"#000036\"},\"type\":\"sankey\"}],\"scatter\":[{\"marker\":{\"line\":{\"width\":0}},\"type\":\"scatter\"}],\"table\":[{\"cells\":{\"fill\":{\"color\":\"#000038\"},\"font\":{\"color\":\"#000037\"},\"line\":{\"color\":\"#000039\"}},\"header\":{\"fill\":{\"color\":\"#000040\"},\"font\":{\"color\":\"#000036\"},\"line\":{\"color\":\"#000039\"}},\"type\":\"table\"}],\"waterfall\":[{\"connector\":{\"line\":{\"color\":\"#000036\",\"width\":2}},\"decreasing\":{\"marker\":{\"color\":\"#000033\"}},\"increasing\":{\"marker\":{\"color\":\"#000032\"}},\"totals\":{\"marker\":{\"color\":\"#000034\"}},\"type\":\"waterfall\"}]},\"layout\":{\"coloraxis\":{\"colorscale\":[[0.0,\"#000011\"],[0.1111111111111111,\"#000012\"],[0.2222222222222222,\"#000013\"],[0.3333333333333333,\"#000014\"],[0.4444444444444444,\"#000015\"],[0.5555555555555556,\"#000016\"],[0.6666666666666666,\"#000017\"],[0.7777777777777778,\"#000018\"],[0.8888888888888888,\"#000019\"],[1.0,\"#000020\"]]},\"colorscale\":{\"diverging\":[[0.0,\"#000021\"],[0.1,\"#000022\"],[0.2,\"#000023\"],[0.3,\"#000024\"],[0.4,\"#000025\"],[0.5,\"#000026\"],[0.6,\"#000027\"],[0.7,\"#000028\"],[0.8,\"#000029\"],[0.9,\"#000030\"],[1.0,\"#000031\"]],\"sequential\":[[0.0,\"#000011\"],[0.1111111111111111,\"#000012\"],[0.2222222222222222,\"#000013\"],[0.3333333333333333,\"#000014\"],[0.4444444444444444,\"#000015\"],[0.5555555555555556,\"#000016\"],[0.6666666666666666,\"#000017\"],[0.7777777777777778,\"#000018\"],[0.8888888888888888,\"#000019\"],[1.0,\"#000020\"]],\"sequentialminus\":[[0.0,\"#000011\"],[0.1111111111111111,\"#000012\"],[0.2222222222222222,\"#000013\"],[0.3333333333333333,\"#000014\"],[0.4444444444444444,\"#000015\"],[0.5555555555555556,\"#000016\"],[0.6666666666666666,\"#000017\"],[0.7777777777777778,\"#000018\"],[0.8888888888888888,\"#000019\"],[1.0,\"#000020\"]]},\"colorway\":[\"#000001\",\"#000002\",\"#000003\",\"#000004\",\"#000005\",\"#000006\",\"#000007\",\"#000008\",\"#000009\",\"#000010\"]}}},                        {\"responsive\": true}                    ).then(function(){\n",
       "                            \n",
       "var gd = document.getElementById('cdea25c1-8fcb-4b75-a545-30efaf8342d3');\n",
       "var x = new MutationObserver(function (mutations, observer) {{\n",
       "        var display = window.getComputedStyle(gd).display;\n",
       "        if (!display || display === 'none') {{\n",
       "            console.log([gd, 'removed!']);\n",
       "            Plotly.purge(gd);\n",
       "            observer.disconnect();\n",
       "        }}\n",
       "}});\n",
       "\n",
       "// Listen for the removal of the full notebook cells\n",
       "var notebookContainer = gd.closest('#notebook-container');\n",
       "if (notebookContainer) {{\n",
       "    x.observe(notebookContainer, {childList: true});\n",
       "}}\n",
       "\n",
       "// Listen for the clearing of the current output cell\n",
       "var outputEl = gd.closest('.output');\n",
       "if (outputEl) {{\n",
       "    x.observe(outputEl, {childList: true});\n",
       "}}\n",
       "\n",
       "                        })                };                });            </script>        </div>"
      ]
     },
     "metadata": {},
     "output_type": "display_data"
    }
   ],
   "source": [
    "fig = go.Figure(\n",
    "    data=[\n",
    "        go.Table(\n",
    "            columnwidth = [0.8, 0.8, 1, 3],\n",
    "            header=dict(\n",
    "                values=[f\"<b>{i}</b>\" for i in merged_table.columns.to_list()],\n",
    "                fill_color='pink'\n",
    "                ),\n",
    "            cells=dict(\n",
    "                values=merged_table.transpose(), fill_color='lavender'),\n",
    "            )\n",
    "        ]\n",
    "    )\n",
    "fig.show()"
   ]
  },
  {
   "cell_type": "code",
   "execution_count": 56,
   "id": "f0136415-fd07-459e-91f1-31e90ed77a59",
   "metadata": {},
   "outputs": [
    {
     "data": {
      "text/html": [
       "<div>\n",
       "<style scoped>\n",
       "    .dataframe tbody tr th:only-of-type {\n",
       "        vertical-align: middle;\n",
       "    }\n",
       "\n",
       "    .dataframe tbody tr th {\n",
       "        vertical-align: top;\n",
       "    }\n",
       "\n",
       "    .dataframe thead th {\n",
       "        text-align: right;\n",
       "    }\n",
       "</style>\n",
       "<table border=\"1\" class=\"dataframe\">\n",
       "  <thead>\n",
       "    <tr style=\"text-align: right;\">\n",
       "      <th></th>\n",
       "      <th>Library</th>\n",
       "      <th>Hyperlink</th>\n",
       "      <th>Framework</th>\n",
       "      <th>DataType</th>\n",
       "    </tr>\n",
       "  </thead>\n",
       "  <tbody>\n",
       "    <tr>\n",
       "      <th>0</th>\n",
       "      <td>eli5</td>\n",
       "      <td>&lt;a href=\"https://eli5.readthedocs.io/en/latest...</td>\n",
       "      <td>scikit-learn, XGBoost, LightGBM, CatBoost, Ker...</td>\n",
       "      <td>Texts, Images, Tabular, Graph</td>\n",
       "    </tr>\n",
       "    <tr>\n",
       "      <th>1</th>\n",
       "      <td>pdpbox</td>\n",
       "      <td>&lt;a href=\"https://pdpbox.readthedocs.io/en/late...</td>\n",
       "      <td>scikit-learn</td>\n",
       "      <td>Tabular</td>\n",
       "    </tr>\n",
       "    <tr>\n",
       "      <th>2</th>\n",
       "      <td>shap</td>\n",
       "      <td>&lt;a href=\"https://shap.readthedocs.io/en/latest...</td>\n",
       "      <td>scikit-learn, XGBoost, LightGBM, CatBoost,Kera...</td>\n",
       "      <td>Texts, Images, Tabular, Genomic</td>\n",
       "    </tr>\n",
       "    <tr>\n",
       "      <th>3</th>\n",
       "      <td>deeplift</td>\n",
       "      <td>&lt;a href=\"https://github.com/kundajelab/deeplif...</td>\n",
       "      <td>Keras</td>\n",
       "      <td>Texts, Images, Genomic</td>\n",
       "    </tr>\n",
       "    <tr>\n",
       "      <th>4</th>\n",
       "      <td>SALib</td>\n",
       "      <td>&lt;a href=\"https://salib.readthedocs.io/en/lates...</td>\n",
       "      <td>Keras</td>\n",
       "      <td>Tabular</td>\n",
       "    </tr>\n",
       "    <tr>\n",
       "      <th>5</th>\n",
       "      <td>LIME</td>\n",
       "      <td>&lt;a href=\"https://github.com/marcotcr/lime?yscl...</td>\n",
       "      <td>scikit-learn, Keras, tensorflow, pytorch</td>\n",
       "      <td>Texts, Images, Tabular</td>\n",
       "    </tr>\n",
       "    <tr>\n",
       "      <th>6</th>\n",
       "      <td>interpretML</td>\n",
       "      <td>&lt;a href=\"https://interpret.ml/docs/intro.html\"...</td>\n",
       "      <td>scikit-learn</td>\n",
       "      <td>Tabular</td>\n",
       "    </tr>\n",
       "    <tr>\n",
       "      <th>7</th>\n",
       "      <td>dice-ml</td>\n",
       "      <td>&lt;a href=\"https://interpret.ml/DiCE/dice_ml.htm...</td>\n",
       "      <td>scikit-learn, Keras, tensorflow, pytorch</td>\n",
       "      <td>Tabular</td>\n",
       "    </tr>\n",
       "    <tr>\n",
       "      <th>8</th>\n",
       "      <td>interpret-text</td>\n",
       "      <td>&lt;a href=\"https://github.com/interpretml/interp...</td>\n",
       "      <td>scikit-learn, pytorch</td>\n",
       "      <td>Texts</td>\n",
       "    </tr>\n",
       "    <tr>\n",
       "      <th>9</th>\n",
       "      <td>treeinterpreter</td>\n",
       "      <td>&lt;a href=\"https://github.com/andosa/treeinterpr...</td>\n",
       "      <td>scikit-learn</td>\n",
       "      <td>Tabular</td>\n",
       "    </tr>\n",
       "    <tr>\n",
       "      <th>10</th>\n",
       "      <td>graphviz-ML</td>\n",
       "      <td>&lt;a href=\"https://github.com/MrColoratus/graphv...</td>\n",
       "      <td>scikit-learn, SciPy</td>\n",
       "      <td>Tabular</td>\n",
       "    </tr>\n",
       "    <tr>\n",
       "      <th>11</th>\n",
       "      <td>captum (with VPN)</td>\n",
       "      <td>&lt;a href=\"https://captum.ai/\"&gt;🔗&lt;/a&gt;</td>\n",
       "      <td>pytorch</td>\n",
       "      <td>Texts, Images, Tabular</td>\n",
       "    </tr>\n",
       "    <tr>\n",
       "      <th>12</th>\n",
       "      <td>skater (DOESN'T WORK 13.01.24)</td>\n",
       "      <td>&lt;a href=\"https://github.com/oracle/Skater?yscl...</td>\n",
       "      <td>scikit-learn, XGBoost, Keras</td>\n",
       "      <td>Texts, Images, Tabular</td>\n",
       "    </tr>\n",
       "    <tr>\n",
       "      <th>13</th>\n",
       "      <td>transformers-interpret</td>\n",
       "      <td>&lt;a href=\"https://github.com/cdpierse/transform...</td>\n",
       "      <td>transformers</td>\n",
       "      <td>Texts, Images</td>\n",
       "    </tr>\n",
       "    <tr>\n",
       "      <th>14</th>\n",
       "      <td>bertviz</td>\n",
       "      <td>&lt;a href=\"https://github.com/jessevig/bertviz?y...</td>\n",
       "      <td>transformers</td>\n",
       "      <td>Texts</td>\n",
       "    </tr>\n",
       "    <tr>\n",
       "      <th>15</th>\n",
       "      <td>alibi</td>\n",
       "      <td>&lt;a href=\"https://github.com/SeldonIO/alibi\"&gt;🔗&lt;/a&gt;</td>\n",
       "      <td>scikit-learn, Keras, tensorflow, pytorch</td>\n",
       "      <td>Graph</td>\n",
       "    </tr>\n",
       "    <tr>\n",
       "      <th>16</th>\n",
       "      <td>treeInterpreter</td>\n",
       "      <td>&lt;a href=\"https://github.com/andosa/treeinterpr...</td>\n",
       "      <td>scikit-learn</td>\n",
       "      <td>Texts, Images, Tabular</td>\n",
       "    </tr>\n",
       "    <tr>\n",
       "      <th>17</th>\n",
       "      <td>Explainer dashboard</td>\n",
       "      <td>&lt;a href=\"https://explainerdashboard.readthedoc...</td>\n",
       "      <td>scikit-learn, skorch</td>\n",
       "      <td>Texts, Images, Tabular</td>\n",
       "    </tr>\n",
       "    <tr>\n",
       "      <th>18</th>\n",
       "      <td>Permutation Importance</td>\n",
       "      <td>&lt;a href=\"https://permutationimportance.readthe...</td>\n",
       "      <td>scikit-learn, Keras</td>\n",
       "      <td>Texts, Tabular</td>\n",
       "    </tr>\n",
       "    <tr>\n",
       "      <th>19</th>\n",
       "      <td>Quantus</td>\n",
       "      <td>&lt;a href=\"https://github.com/understandable-mac...</td>\n",
       "      <td>Keras, tensorflow, pytorch, transformers</td>\n",
       "      <td>Images, Tabular</td>\n",
       "    </tr>\n",
       "    <tr>\n",
       "      <th>20</th>\n",
       "      <td>tf-explain</td>\n",
       "      <td>&lt;a href=\"https://tf-explain.readthedocs.io/en/...</td>\n",
       "      <td>tensorflow</td>\n",
       "      <td>Texts, Images, Tabular</td>\n",
       "    </tr>\n",
       "    <tr>\n",
       "      <th>21</th>\n",
       "      <td>zennit</td>\n",
       "      <td>&lt;a href=\"https://github.com/chr5tphr/zennit\"&gt;🔗...</td>\n",
       "      <td>pytorch</td>\n",
       "      <td>Texts, Images, Tabular</td>\n",
       "    </tr>\n",
       "    <tr>\n",
       "      <th>22</th>\n",
       "      <td>shapash</td>\n",
       "      <td>&lt;a href=\"https://github.com/MAIF/shapash#how_s...</td>\n",
       "      <td>scikit-learn, XGBoost, LightGBM, CatBoost</td>\n",
       "      <td>Tabular</td>\n",
       "    </tr>\n",
       "    <tr>\n",
       "      <th>23</th>\n",
       "      <td>AIX360</td>\n",
       "      <td>&lt;a href=\"https://github.com/Trusted-AI/AIX360\"...</td>\n",
       "      <td>scikit-learn, tensorflow</td>\n",
       "      <td>Texts, Images, Tabular</td>\n",
       "    </tr>\n",
       "    <tr>\n",
       "      <th>24</th>\n",
       "      <td>OMNIXai</td>\n",
       "      <td>&lt;a href=\"https://github.com/salesforce/OmniXAI...</td>\n",
       "      <td>Keras, pytorch</td>\n",
       "      <td>Texts, Images, Tabular, Time Series</td>\n",
       "    </tr>\n",
       "  </tbody>\n",
       "</table>\n",
       "</div>"
      ],
      "text/plain": [
       "                            Library  \\\n",
       "0                              eli5   \n",
       "1                            pdpbox   \n",
       "2                              shap   \n",
       "3                          deeplift   \n",
       "4                             SALib   \n",
       "5                              LIME   \n",
       "6                       interpretML   \n",
       "7                          dice-ml    \n",
       "8                    interpret-text   \n",
       "9                   treeinterpreter   \n",
       "10                      graphviz-ML   \n",
       "11                captum (with VPN)   \n",
       "12  skater (DOESN'T WORK 13.01.24)    \n",
       "13           transformers-interpret   \n",
       "14                          bertviz   \n",
       "15                            alibi   \n",
       "16                  treeInterpreter   \n",
       "17              Explainer dashboard   \n",
       "18           Permutation Importance   \n",
       "19                          Quantus   \n",
       "20                       tf-explain   \n",
       "21                           zennit   \n",
       "22                          shapash   \n",
       "23                           AIX360   \n",
       "24                          OMNIXai   \n",
       "\n",
       "                                            Hyperlink  \\\n",
       "0   <a href=\"https://eli5.readthedocs.io/en/latest...   \n",
       "1   <a href=\"https://pdpbox.readthedocs.io/en/late...   \n",
       "2   <a href=\"https://shap.readthedocs.io/en/latest...   \n",
       "3   <a href=\"https://github.com/kundajelab/deeplif...   \n",
       "4   <a href=\"https://salib.readthedocs.io/en/lates...   \n",
       "5   <a href=\"https://github.com/marcotcr/lime?yscl...   \n",
       "6   <a href=\"https://interpret.ml/docs/intro.html\"...   \n",
       "7   <a href=\"https://interpret.ml/DiCE/dice_ml.htm...   \n",
       "8   <a href=\"https://github.com/interpretml/interp...   \n",
       "9   <a href=\"https://github.com/andosa/treeinterpr...   \n",
       "10  <a href=\"https://github.com/MrColoratus/graphv...   \n",
       "11                 <a href=\"https://captum.ai/\">🔗</a>   \n",
       "12  <a href=\"https://github.com/oracle/Skater?yscl...   \n",
       "13  <a href=\"https://github.com/cdpierse/transform...   \n",
       "14  <a href=\"https://github.com/jessevig/bertviz?y...   \n",
       "15  <a href=\"https://github.com/SeldonIO/alibi\">🔗</a>   \n",
       "16  <a href=\"https://github.com/andosa/treeinterpr...   \n",
       "17  <a href=\"https://explainerdashboard.readthedoc...   \n",
       "18  <a href=\"https://permutationimportance.readthe...   \n",
       "19  <a href=\"https://github.com/understandable-mac...   \n",
       "20  <a href=\"https://tf-explain.readthedocs.io/en/...   \n",
       "21  <a href=\"https://github.com/chr5tphr/zennit\">🔗...   \n",
       "22  <a href=\"https://github.com/MAIF/shapash#how_s...   \n",
       "23  <a href=\"https://github.com/Trusted-AI/AIX360\"...   \n",
       "24  <a href=\"https://github.com/salesforce/OmniXAI...   \n",
       "\n",
       "                                            Framework  \\\n",
       "0   scikit-learn, XGBoost, LightGBM, CatBoost, Ker...   \n",
       "1                                        scikit-learn   \n",
       "2   scikit-learn, XGBoost, LightGBM, CatBoost,Kera...   \n",
       "3                                               Keras   \n",
       "4                                               Keras   \n",
       "5            scikit-learn, Keras, tensorflow, pytorch   \n",
       "6                                        scikit-learn   \n",
       "7            scikit-learn, Keras, tensorflow, pytorch   \n",
       "8                               scikit-learn, pytorch   \n",
       "9                                        scikit-learn   \n",
       "10                                scikit-learn, SciPy   \n",
       "11                                            pytorch   \n",
       "12                       scikit-learn, XGBoost, Keras   \n",
       "13                                       transformers   \n",
       "14                                       transformers   \n",
       "15           scikit-learn, Keras, tensorflow, pytorch   \n",
       "16                                       scikit-learn   \n",
       "17                               scikit-learn, skorch   \n",
       "18                                scikit-learn, Keras   \n",
       "19           Keras, tensorflow, pytorch, transformers   \n",
       "20                                         tensorflow   \n",
       "21                                            pytorch   \n",
       "22          scikit-learn, XGBoost, LightGBM, CatBoost   \n",
       "23                           scikit-learn, tensorflow   \n",
       "24                                     Keras, pytorch   \n",
       "\n",
       "                               DataType  \n",
       "0         Texts, Images, Tabular, Graph  \n",
       "1                               Tabular  \n",
       "2       Texts, Images, Tabular, Genomic  \n",
       "3                Texts, Images, Genomic  \n",
       "4                               Tabular  \n",
       "5                Texts, Images, Tabular  \n",
       "6                               Tabular  \n",
       "7                               Tabular  \n",
       "8                                 Texts  \n",
       "9                               Tabular  \n",
       "10                              Tabular  \n",
       "11               Texts, Images, Tabular  \n",
       "12               Texts, Images, Tabular  \n",
       "13                        Texts, Images  \n",
       "14                                Texts  \n",
       "15                                Graph  \n",
       "16               Texts, Images, Tabular  \n",
       "17               Texts, Images, Tabular  \n",
       "18                       Texts, Tabular  \n",
       "19                      Images, Tabular  \n",
       "20               Texts, Images, Tabular  \n",
       "21               Texts, Images, Tabular  \n",
       "22                              Tabular  \n",
       "23               Texts, Images, Tabular  \n",
       "24  Texts, Images, Tabular, Time Series  "
      ]
     },
     "execution_count": 56,
     "metadata": {},
     "output_type": "execute_result"
    }
   ],
   "source": [
    "merged_table.drop('Link', axis=1, inplace=True)\n",
    "\n",
    "merged_table"
   ]
  },
  {
   "cell_type": "code",
   "execution_count": 58,
   "id": "ddacb505-a4da-4e82-9207-411bae06d5a2",
   "metadata": {},
   "outputs": [],
   "source": [
    "merged_table.to_csv('./data/merged_table.csv')"
   ]
  },
  {
   "cell_type": "code",
   "execution_count": 44,
   "id": "bdd0d98d-2414-4c56-87c3-fc1c6fb5a91c",
   "metadata": {},
   "outputs": [
    {
     "data": {
      "text/plain": [
       "0           Texts, Images, Tabular, Graph\n",
       "1                                 Tabular\n",
       "2         Texts, Images, Tabular, Genomic\n",
       "3                  Texts, Images, Genomic\n",
       "4                                 Tabular\n",
       "5                  Texts, Images, Tabular\n",
       "6                                 Tabular\n",
       "7                                 Tabular\n",
       "8                                   Texts\n",
       "9                                 Tabular\n",
       "10                                Tabular\n",
       "11                 Texts, Images, Tabular\n",
       "12                 Texts, Images, Tabular\n",
       "13                          Texts, Images\n",
       "14                                  Texts\n",
       "15                                  Graph\n",
       "16                 Texts, Images, Tabular\n",
       "17                 Texts, Images, Tabular\n",
       "18                         Texts, Tabular\n",
       "19                        Images, Tabular\n",
       "20                 Texts, Images, Tabular\n",
       "21                 Texts, Images, Tabular\n",
       "22                                Tabular\n",
       "23                 Texts, Images, Tabular\n",
       "24    Texts, Images, Tabular, Time Series\n",
       "Name: Data type , dtype: object"
      ]
     },
     "execution_count": 44,
     "metadata": {},
     "output_type": "execute_result"
    }
   ],
   "source": [
    "merged_table['Data type '] #.apply(lambda x: True if 'Texts' in x else False)"
   ]
  },
  {
   "cell_type": "markdown",
   "id": "705f4a73-a965-4d7d-86b6-c9cb8b37599a",
   "metadata": {},
   "source": [
    "**Описание методов:**\n",
    "\n",
    "- Microscope AI - methods that make it possible to consider the influence of specific feature values on the prediction.\n",
    "- Model understating - methods that make it possible to see the decision-making process on each single sample.\n",
    "- Model debugging — methods for making detail missсlassification analysis and and for the depth analysis of features."
   ]
  }
 ],
 "metadata": {
  "kernelspec": {
   "display_name": "Python 3 (ipykernel)",
   "language": "python",
   "name": "python3"
  },
  "language_info": {
   "codemirror_mode": {
    "name": "ipython",
    "version": 3
   },
   "file_extension": ".py",
   "mimetype": "text/x-python",
   "name": "python",
   "nbconvert_exporter": "python",
   "pygments_lexer": "ipython3",
   "version": "3.9.6"
  }
 },
 "nbformat": 4,
 "nbformat_minor": 5
}
