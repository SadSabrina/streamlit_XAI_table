{
 "cells": [
  {
   "cell_type": "code",
   "execution_count": 28,
   "id": "84c6f774-97f9-4fc1-a8a9-ca6823ee564d",
   "metadata": {},
   "outputs": [
    {
     "data": {
      "text/html": [
       "<div>\n",
       "<style scoped>\n",
       "    .dataframe tbody tr th:only-of-type {\n",
       "        vertical-align: middle;\n",
       "    }\n",
       "\n",
       "    .dataframe tbody tr th {\n",
       "        vertical-align: top;\n",
       "    }\n",
       "\n",
       "    .dataframe thead th {\n",
       "        text-align: right;\n",
       "    }\n",
       "</style>\n",
       "<table border=\"1\" class=\"dataframe\">\n",
       "  <thead>\n",
       "    <tr style=\"text-align: right;\">\n",
       "      <th></th>\n",
       "      <th>Site</th>\n",
       "      <th>URL</th>\n",
       "      <th>Link</th>\n",
       "    </tr>\n",
       "  </thead>\n",
       "  <tbody>\n",
       "    <tr>\n",
       "      <th>0</th>\n",
       "      <td>DuckDuckGo</td>\n",
       "      <td>https://duckduckgo.com/</td>\n",
       "      <td>&lt;a href=\"https://duckduckgo.com/\"&gt;🔗&lt;/a&gt;</td>\n",
       "    </tr>\n",
       "    <tr>\n",
       "      <th>1</th>\n",
       "      <td>Google</td>\n",
       "      <td>https://www.google.com/</td>\n",
       "      <td>&lt;a href=\"https://www.google.com/\"&gt;🔗&lt;/a&gt;</td>\n",
       "    </tr>\n",
       "    <tr>\n",
       "      <th>2</th>\n",
       "      <td>Bing</td>\n",
       "      <td>https://www.bing.com/</td>\n",
       "      <td>&lt;a href=\"https://www.bing.com/\"&gt;🔗&lt;/a&gt;</td>\n",
       "    </tr>\n",
       "  </tbody>\n",
       "</table>\n",
       "</div>"
      ],
      "text/plain": [
       "         Site                      URL  \\\n",
       "0  DuckDuckGo  https://duckduckgo.com/   \n",
       "1      Google  https://www.google.com/   \n",
       "2        Bing    https://www.bing.com/   \n",
       "\n",
       "                                      Link  \n",
       "0  <a href=\"https://duckduckgo.com/\">🔗</a>  \n",
       "1  <a href=\"https://www.google.com/\">🔗</a>  \n",
       "2    <a href=\"https://www.bing.com/\">🔗</a>  "
      ]
     },
     "execution_count": 28,
     "metadata": {},
     "output_type": "execute_result"
    }
   ],
   "source": [
    "import streamlit as st\n",
    "import pandas as pd\n",
    "import plotly.graph_objects as go\n",
    "\n",
    "# Data example with a clickable link\n",
    "\n",
    "def create_link(url:str) -> str:\n",
    "    return f'''<a href=\"{url}\">🔗</a>'''\n",
    "\n",
    "\n",
    "\n",
    "test_df = pd.DataFrame(\n",
    "    {\"Site\": \"DuckDuckGo Google Bing\".split(),\n",
    "     \"URL\": \"https://duckduckgo.com/ https://www.google.com/ https://www.bing.com/\".split()}\n",
    ")\n",
    "\n",
    "test_df['Link'] = [create_link(url) for url in test_df[\"URL\"]]\n",
    "test_df"
   ]
  },
  {
   "cell_type": "code",
   "execution_count": 29,
   "id": "296bfd5b-5525-4be6-9a70-79215306dc4c",
   "metadata": {},
   "outputs": [],
   "source": [
    "#adding_hyperlinks\n",
    "test_string = 'https://shap.readthedocs.io/en/latest/index.html, https://interpret.ml/docs/shap.html, https://explainerdashboard.readthedocs.io/en/latest/dashboards.html'\n",
    "shap_test = [create_link(i) for i in test_string.split(',')]\n"
   ]
  },
  {
   "cell_type": "code",
   "execution_count": 30,
   "id": "7420850e-ede2-40bb-ab0e-efa4048e60bf",
   "metadata": {},
   "outputs": [],
   "source": [
    "test_2 = '<a href=\"https://shap.readthedocs.io/en/latest/index.html\">🔗</a>\\n<a href=\"https://interpret.ml/docs/shap.html\">🔗</a>\\n<a href=\"https://explainerdashboard.readthedocs.io/en/latest/dashboards.html\">🔗</a>'"
   ]
  },
  {
   "cell_type": "code",
   "execution_count": 31,
   "id": "dc18f658-feca-4176-8179-63d5c791d31c",
   "metadata": {},
   "outputs": [],
   "source": [
    "test_3 = '<a href=\"https://shap.readthedocs.io/en/latest/index.html\">shap</a>, \\n<a href=\"https://interpret.ml/docs/shap.html\">interpet_ml</a> or see <a href=\"https://explainerdashboard.readthedocs.io/en/latest/dashboards.html\">explainerdashboard</a>'"
   ]
  },
  {
   "cell_type": "markdown",
   "id": "8fb5227e-ba59-489a-b3f9-3acf01c8a37b",
   "metadata": {},
   "source": [
    "Эталон ссылок со смайликами:\n",
    "'<a href=\"https://shap.readthedocs.io/en/latest/index.html\">🔗</a>\\n<a href=\"https://interpret.ml/docs/shap.html\">🔗</a>or see <a href=\"https://explainerdashboard.readthedocs.io/en/latest/dashboards.html\">🔗</a>'\n",
    "\n",
    "Эталон ссылок с тесктом:\n",
    "'<a href=\"https://shap.readthedocs.io/en/latest/index.html\">shap</a>\\n<a href=\"https://interpret.ml/docs/shap.html\">interpret_ml</a>or see <a href=\"https://explainerdashboard.readthedocs.io/en/latest/dashboards.html\">explainer dashboard</a>'"
   ]
  },
  {
   "cell_type": "markdown",
   "id": "705f4a73-a965-4d7d-86b6-c9cb8b37599a",
   "metadata": {},
   "source": [
    "**Описание методов:**\n",
    "\n",
    "- Microscope AI - methods that make it possible to consider the influence of specific feature values on the prediction.\n",
    "- Model understating - methods that make it possible to see the decision-making process on each single sample.\n",
    "- Model debugging — methods for making detail missсlassification analysis and and for the depth analysis of features."
   ]
  },
  {
   "cell_type": "code",
   "execution_count": 32,
   "id": "e62f545d-5531-4536-922d-625a42e93c8b",
   "metadata": {},
   "outputs": [],
   "source": [
    "test_df.loc[len(test_df)] = ['', '', test_2]\n",
    "test_df.loc[len(test_df)] = ['', '', test_3]"
   ]
  },
  {
   "cell_type": "code",
   "execution_count": 33,
   "id": "292937a9-0f8a-4f53-afb2-88efcb066f99",
   "metadata": {},
   "outputs": [
    {
     "data": {
      "application/vnd.plotly.v1+json": {
       "config": {
        "plotlyServerURL": "https://plot.ly"
       },
       "data": [
        {
         "cells": {
          "fill": {
           "color": "lavender"
          },
          "values": [
           [
            "DuckDuckGo",
            "Google",
            "Bing",
            "",
            ""
           ],
           [
            "https://duckduckgo.com/",
            "https://www.google.com/",
            "https://www.bing.com/",
            "",
            ""
           ],
           [
            "<a href=\"https://duckduckgo.com/\">🔗</a>",
            "<a href=\"https://www.google.com/\">🔗</a>",
            "<a href=\"https://www.bing.com/\">🔗</a>",
            "<a href=\"https://shap.readthedocs.io/en/latest/index.html\">🔗</a>\n<a href=\"https://interpret.ml/docs/shap.html\">🔗</a>\n<a href=\"https://explainerdashboard.readthedocs.io/en/latest/dashboards.html\">🔗</a>",
            "<a href=\"https://shap.readthedocs.io/en/latest/index.html\">shap</a>, \n<a href=\"https://interpret.ml/docs/shap.html\">interpet_ml</a> or see <a href=\"https://explainerdashboard.readthedocs.io/en/latest/dashboards.html\">explainerdashboard</a>"
           ]
          ]
         },
         "columnwidth": [
          1,
          1,
          3
         ],
         "header": {
          "fill": {
           "color": "pink"
          },
          "values": [
           "<b>Site</b>",
           "<b>URL</b>",
           "<b>Link</b>"
          ]
         },
         "type": "table"
        }
       ],
       "layout": {
        "autosize": true,
        "template": {
         "data": {
          "candlestick": [
           {
            "decreasing": {
             "line": {
              "color": "#000033"
             }
            },
            "increasing": {
             "line": {
              "color": "#000032"
             }
            },
            "type": "candlestick"
           }
          ],
          "contour": [
           {
            "colorscale": [
             [
              0,
              "#000011"
             ],
             [
              0.1111111111111111,
              "#000012"
             ],
             [
              0.2222222222222222,
              "#000013"
             ],
             [
              0.3333333333333333,
              "#000014"
             ],
             [
              0.4444444444444444,
              "#000015"
             ],
             [
              0.5555555555555556,
              "#000016"
             ],
             [
              0.6666666666666666,
              "#000017"
             ],
             [
              0.7777777777777778,
              "#000018"
             ],
             [
              0.8888888888888888,
              "#000019"
             ],
             [
              1,
              "#000020"
             ]
            ],
            "type": "contour"
           }
          ],
          "contourcarpet": [
           {
            "colorscale": [
             [
              0,
              "#000011"
             ],
             [
              0.1111111111111111,
              "#000012"
             ],
             [
              0.2222222222222222,
              "#000013"
             ],
             [
              0.3333333333333333,
              "#000014"
             ],
             [
              0.4444444444444444,
              "#000015"
             ],
             [
              0.5555555555555556,
              "#000016"
             ],
             [
              0.6666666666666666,
              "#000017"
             ],
             [
              0.7777777777777778,
              "#000018"
             ],
             [
              0.8888888888888888,
              "#000019"
             ],
             [
              1,
              "#000020"
             ]
            ],
            "type": "contourcarpet"
           }
          ],
          "heatmap": [
           {
            "colorscale": [
             [
              0,
              "#000011"
             ],
             [
              0.1111111111111111,
              "#000012"
             ],
             [
              0.2222222222222222,
              "#000013"
             ],
             [
              0.3333333333333333,
              "#000014"
             ],
             [
              0.4444444444444444,
              "#000015"
             ],
             [
              0.5555555555555556,
              "#000016"
             ],
             [
              0.6666666666666666,
              "#000017"
             ],
             [
              0.7777777777777778,
              "#000018"
             ],
             [
              0.8888888888888888,
              "#000019"
             ],
             [
              1,
              "#000020"
             ]
            ],
            "type": "heatmap"
           }
          ],
          "histogram2d": [
           {
            "colorscale": [
             [
              0,
              "#000011"
             ],
             [
              0.1111111111111111,
              "#000012"
             ],
             [
              0.2222222222222222,
              "#000013"
             ],
             [
              0.3333333333333333,
              "#000014"
             ],
             [
              0.4444444444444444,
              "#000015"
             ],
             [
              0.5555555555555556,
              "#000016"
             ],
             [
              0.6666666666666666,
              "#000017"
             ],
             [
              0.7777777777777778,
              "#000018"
             ],
             [
              0.8888888888888888,
              "#000019"
             ],
             [
              1,
              "#000020"
             ]
            ],
            "type": "histogram2d"
           }
          ],
          "icicle": [
           {
            "textfont": {
             "color": "white"
            },
            "type": "icicle"
           }
          ],
          "sankey": [
           {
            "textfont": {
             "color": "#000036"
            },
            "type": "sankey"
           }
          ],
          "scatter": [
           {
            "marker": {
             "line": {
              "width": 0
             }
            },
            "type": "scatter"
           }
          ],
          "table": [
           {
            "cells": {
             "fill": {
              "color": "#000038"
             },
             "font": {
              "color": "#000037"
             },
             "line": {
              "color": "#000039"
             }
            },
            "header": {
             "fill": {
              "color": "#000040"
             },
             "font": {
              "color": "#000036"
             },
             "line": {
              "color": "#000039"
             }
            },
            "type": "table"
           }
          ],
          "waterfall": [
           {
            "connector": {
             "line": {
              "color": "#000036",
              "width": 2
             }
            },
            "decreasing": {
             "marker": {
              "color": "#000033"
             }
            },
            "increasing": {
             "marker": {
              "color": "#000032"
             }
            },
            "totals": {
             "marker": {
              "color": "#000034"
             }
            },
            "type": "waterfall"
           }
          ]
         },
         "layout": {
          "coloraxis": {
           "colorscale": [
            [
             0,
             "#000011"
            ],
            [
             0.1111111111111111,
             "#000012"
            ],
            [
             0.2222222222222222,
             "#000013"
            ],
            [
             0.3333333333333333,
             "#000014"
            ],
            [
             0.4444444444444444,
             "#000015"
            ],
            [
             0.5555555555555556,
             "#000016"
            ],
            [
             0.6666666666666666,
             "#000017"
            ],
            [
             0.7777777777777778,
             "#000018"
            ],
            [
             0.8888888888888888,
             "#000019"
            ],
            [
             1,
             "#000020"
            ]
           ]
          },
          "colorscale": {
           "diverging": [
            [
             0,
             "#000021"
            ],
            [
             0.1,
             "#000022"
            ],
            [
             0.2,
             "#000023"
            ],
            [
             0.3,
             "#000024"
            ],
            [
             0.4,
             "#000025"
            ],
            [
             0.5,
             "#000026"
            ],
            [
             0.6,
             "#000027"
            ],
            [
             0.7,
             "#000028"
            ],
            [
             0.8,
             "#000029"
            ],
            [
             0.9,
             "#000030"
            ],
            [
             1,
             "#000031"
            ]
           ],
           "sequential": [
            [
             0,
             "#000011"
            ],
            [
             0.1111111111111111,
             "#000012"
            ],
            [
             0.2222222222222222,
             "#000013"
            ],
            [
             0.3333333333333333,
             "#000014"
            ],
            [
             0.4444444444444444,
             "#000015"
            ],
            [
             0.5555555555555556,
             "#000016"
            ],
            [
             0.6666666666666666,
             "#000017"
            ],
            [
             0.7777777777777778,
             "#000018"
            ],
            [
             0.8888888888888888,
             "#000019"
            ],
            [
             1,
             "#000020"
            ]
           ],
           "sequentialminus": [
            [
             0,
             "#000011"
            ],
            [
             0.1111111111111111,
             "#000012"
            ],
            [
             0.2222222222222222,
             "#000013"
            ],
            [
             0.3333333333333333,
             "#000014"
            ],
            [
             0.4444444444444444,
             "#000015"
            ],
            [
             0.5555555555555556,
             "#000016"
            ],
            [
             0.6666666666666666,
             "#000017"
            ],
            [
             0.7777777777777778,
             "#000018"
            ],
            [
             0.8888888888888888,
             "#000019"
            ],
            [
             1,
             "#000020"
            ]
           ]
          },
          "colorway": [
           "#000001",
           "#000002",
           "#000003",
           "#000004",
           "#000005",
           "#000006",
           "#000007",
           "#000008",
           "#000009",
           "#000010"
          ]
         }
        }
       }
      },
      "image/png": "[encoded data removed]",
      "text/html": [
       "<div>                            <div id=\"b13b682b-0512-4282-a5c5-b937a9c91b0d\" class=\"plotly-graph-div\" style=\"height:525px; width:100%;\"></div>            <script type=\"text/javascript\">                require([\"plotly\"], function(Plotly) {                    window.PLOTLYENV=window.PLOTLYENV || {};                                    if (document.getElementById(\"b13b682b-0512-4282-a5c5-b937a9c91b0d\")) {                    Plotly.newPlot(                        \"b13b682b-0512-4282-a5c5-b937a9c91b0d\",                        [{\"cells\":{\"fill\":{\"color\":\"lavender\"},\"values\":[[\"DuckDuckGo\",\"Google\",\"Bing\",\"\",\"\"],[\"https:\\u002f\\u002fduckduckgo.com\\u002f\",\"https:\\u002f\\u002fwww.google.com\\u002f\",\"https:\\u002f\\u002fwww.bing.com\\u002f\",\"\",\"\"],[\"\\u003ca href=\\\"https:\\u002f\\u002fduckduckgo.com\\u002f\\\"\\u003e\\ud83d\\udd17\\u003c\\u002fa\\u003e\",\"\\u003ca href=\\\"https:\\u002f\\u002fwww.google.com\\u002f\\\"\\u003e\\ud83d\\udd17\\u003c\\u002fa\\u003e\",\"\\u003ca href=\\\"https:\\u002f\\u002fwww.bing.com\\u002f\\\"\\u003e\\ud83d\\udd17\\u003c\\u002fa\\u003e\",\"\\u003ca href=\\\"https:\\u002f\\u002fshap.readthedocs.io\\u002fen\\u002flatest\\u002findex.html\\\"\\u003e\\ud83d\\udd17\\u003c\\u002fa\\u003e\\n\\u003ca href=\\\"https:\\u002f\\u002finterpret.ml\\u002fdocs\\u002fshap.html\\\"\\u003e\\ud83d\\udd17\\u003c\\u002fa\\u003e\\n\\u003ca href=\\\"https:\\u002f\\u002fexplainerdashboard.readthedocs.io\\u002fen\\u002flatest\\u002fdashboards.html\\\"\\u003e\\ud83d\\udd17\\u003c\\u002fa\\u003e\",\"\\u003ca href=\\\"https:\\u002f\\u002fshap.readthedocs.io\\u002fen\\u002flatest\\u002findex.html\\\"\\u003eshap\\u003c\\u002fa\\u003e, \\n\\u003ca href=\\\"https:\\u002f\\u002finterpret.ml\\u002fdocs\\u002fshap.html\\\"\\u003einterpet_ml\\u003c\\u002fa\\u003e or see \\u003ca href=\\\"https:\\u002f\\u002fexplainerdashboard.readthedocs.io\\u002fen\\u002flatest\\u002fdashboards.html\\\"\\u003eexplainerdashboard\\u003c\\u002fa\\u003e\"]]},\"columnwidth\":[1,1,3],\"header\":{\"fill\":{\"color\":\"pink\"},\"values\":[\"\\u003cb\\u003eSite\\u003c\\u002fb\\u003e\",\"\\u003cb\\u003eURL\\u003c\\u002fb\\u003e\",\"\\u003cb\\u003eLink\\u003c\\u002fb\\u003e\"]},\"type\":\"table\"}],                        {\"template\":{\"data\":{\"candlestick\":[{\"decreasing\":{\"line\":{\"color\":\"#000033\"}},\"increasing\":{\"line\":{\"color\":\"#000032\"}},\"type\":\"candlestick\"}],\"contourcarpet\":[{\"colorscale\":[[0.0,\"#000011\"],[0.1111111111111111,\"#000012\"],[0.2222222222222222,\"#000013\"],[0.3333333333333333,\"#000014\"],[0.4444444444444444,\"#000015\"],[0.5555555555555556,\"#000016\"],[0.6666666666666666,\"#000017\"],[0.7777777777777778,\"#000018\"],[0.8888888888888888,\"#000019\"],[1.0,\"#000020\"]],\"type\":\"contourcarpet\"}],\"contour\":[{\"colorscale\":[[0.0,\"#000011\"],[0.1111111111111111,\"#000012\"],[0.2222222222222222,\"#000013\"],[0.3333333333333333,\"#000014\"],[0.4444444444444444,\"#000015\"],[0.5555555555555556,\"#000016\"],[0.6666666666666666,\"#000017\"],[0.7777777777777778,\"#000018\"],[0.8888888888888888,\"#000019\"],[1.0,\"#000020\"]],\"type\":\"contour\"}],\"heatmap\":[{\"colorscale\":[[0.0,\"#000011\"],[0.1111111111111111,\"#000012\"],[0.2222222222222222,\"#000013\"],[0.3333333333333333,\"#000014\"],[0.4444444444444444,\"#000015\"],[0.5555555555555556,\"#000016\"],[0.6666666666666666,\"#000017\"],[0.7777777777777778,\"#000018\"],[0.8888888888888888,\"#000019\"],[1.0,\"#000020\"]],\"type\":\"heatmap\"}],\"histogram2d\":[{\"colorscale\":[[0.0,\"#000011\"],[0.1111111111111111,\"#000012\"],[0.2222222222222222,\"#000013\"],[0.3333333333333333,\"#000014\"],[0.4444444444444444,\"#000015\"],[0.5555555555555556,\"#000016\"],[0.6666666666666666,\"#000017\"],[0.7777777777777778,\"#000018\"],[0.8888888888888888,\"#000019\"],[1.0,\"#000020\"]],\"type\":\"histogram2d\"}],\"icicle\":[{\"textfont\":{\"color\":\"white\"},\"type\":\"icicle\"}],\"sankey\":[{\"textfont\":{\"color\":\"#000036\"},\"type\":\"sankey\"}],\"scatter\":[{\"marker\":{\"line\":{\"width\":0}},\"type\":\"scatter\"}],\"table\":[{\"cells\":{\"fill\":{\"color\":\"#000038\"},\"font\":{\"color\":\"#000037\"},\"line\":{\"color\":\"#000039\"}},\"header\":{\"fill\":{\"color\":\"#000040\"},\"font\":{\"color\":\"#000036\"},\"line\":{\"color\":\"#000039\"}},\"type\":\"table\"}],\"waterfall\":[{\"connector\":{\"line\":{\"color\":\"#000036\",\"width\":2}},\"decreasing\":{\"marker\":{\"color\":\"#000033\"}},\"increasing\":{\"marker\":{\"color\":\"#000032\"}},\"totals\":{\"marker\":{\"color\":\"#000034\"}},\"type\":\"waterfall\"}]},\"layout\":{\"coloraxis\":{\"colorscale\":[[0.0,\"#000011\"],[0.1111111111111111,\"#000012\"],[0.2222222222222222,\"#000013\"],[0.3333333333333333,\"#000014\"],[0.4444444444444444,\"#000015\"],[0.5555555555555556,\"#000016\"],[0.6666666666666666,\"#000017\"],[0.7777777777777778,\"#000018\"],[0.8888888888888888,\"#000019\"],[1.0,\"#000020\"]]},\"colorscale\":{\"diverging\":[[0.0,\"#000021\"],[0.1,\"#000022\"],[0.2,\"#000023\"],[0.3,\"#000024\"],[0.4,\"#000025\"],[0.5,\"#000026\"],[0.6,\"#000027\"],[0.7,\"#000028\"],[0.8,\"#000029\"],[0.9,\"#000030\"],[1.0,\"#000031\"]],\"sequential\":[[0.0,\"#000011\"],[0.1111111111111111,\"#000012\"],[0.2222222222222222,\"#000013\"],[0.3333333333333333,\"#000014\"],[0.4444444444444444,\"#000015\"],[0.5555555555555556,\"#000016\"],[0.6666666666666666,\"#000017\"],[0.7777777777777778,\"#000018\"],[0.8888888888888888,\"#000019\"],[1.0,\"#000020\"]],\"sequentialminus\":[[0.0,\"#000011\"],[0.1111111111111111,\"#000012\"],[0.2222222222222222,\"#000013\"],[0.3333333333333333,\"#000014\"],[0.4444444444444444,\"#000015\"],[0.5555555555555556,\"#000016\"],[0.6666666666666666,\"#000017\"],[0.7777777777777778,\"#000018\"],[0.8888888888888888,\"#000019\"],[1.0,\"#000020\"]]},\"colorway\":[\"#000001\",\"#000002\",\"#000003\",\"#000004\",\"#000005\",\"#000006\",\"#000007\",\"#000008\",\"#000009\",\"#000010\"]}}},                        {\"responsive\": true}                    ).then(function(){\n",
       "                            \n",
       "var gd = document.getElementById('b13b682b-0512-4282-a5c5-b937a9c91b0d');\n",
       "var x = new MutationObserver(function (mutations, observer) {{\n",
       "        var display = window.getComputedStyle(gd).display;\n",
       "        if (!display || display === 'none') {{\n",
       "            console.log([gd, 'removed!']);\n",
       "            Plotly.purge(gd);\n",
       "            observer.disconnect();\n",
       "        }}\n",
       "}});\n",
       "\n",
       "// Listen for the removal of the full notebook cells\n",
       "var notebookContainer = gd.closest('#notebook-container');\n",
       "if (notebookContainer) {{\n",
       "    x.observe(notebookContainer, {childList: true});\n",
       "}}\n",
       "\n",
       "// Listen for the clearing of the current output cell\n",
       "var outputEl = gd.closest('.output');\n",
       "if (outputEl) {{\n",
       "    x.observe(outputEl, {childList: true});\n",
       "}}\n",
       "\n",
       "                        })                };                });            </script>        </div>"
      ]
     },
     "metadata": {},
     "output_type": "display_data"
    }
   ],
   "source": [
    "fig = go.Figure(\n",
    "    data=[\n",
    "        go.Table(\n",
    "            columnwidth = [1,1,3],\n",
    "            header=dict(\n",
    "                values=[f\"<b>{i}</b>\" for i in test_df.columns.to_list()],\n",
    "                fill_color='pink'\n",
    "                ),\n",
    "            cells=dict(\n",
    "                values=test_df.transpose(), fill_color='lavender'),\n",
    "            )\n",
    "        ]\n",
    "    )\n",
    "fig.show()"
   ]
  },
  {
   "cell_type": "code",
   "execution_count": 34,
   "id": "e416cd3d-2e9e-482a-9ad1-56a5dd944217",
   "metadata": {},
   "outputs": [],
   "source": [
    "#make the general table\n",
    "general_table = pd.read_csv('./data/md_agnostic.csv')\n",
    "general_table.drop(['Library or example'], axis=1).to_csv('md_agnostic_table_cleaned.csv', index=False)"
   ]
  },
  {
   "cell_type": "code",
   "execution_count": 35,
   "id": "e4a30611-908d-46fc-bb16-a527971a839b",
   "metadata": {},
   "outputs": [
    {
     "data": {
      "text/html": [
       "<div>\n",
       "<style scoped>\n",
       "    .dataframe tbody tr th:only-of-type {\n",
       "        vertical-align: middle;\n",
       "    }\n",
       "\n",
       "    .dataframe tbody tr th {\n",
       "        vertical-align: top;\n",
       "    }\n",
       "\n",
       "    .dataframe thead th {\n",
       "        text-align: right;\n",
       "    }\n",
       "</style>\n",
       "<table border=\"1\" class=\"dataframe\">\n",
       "  <thead>\n",
       "    <tr style=\"text-align: right;\">\n",
       "      <th></th>\n",
       "      <th>Goal</th>\n",
       "      <th>Output</th>\n",
       "      <th>Method</th>\n",
       "      <th>Library or example</th>\n",
       "      <th>Library or example hyperlink</th>\n",
       "    </tr>\n",
       "  </thead>\n",
       "  <tbody>\n",
       "    <tr>\n",
       "      <th>0</th>\n",
       "      <td>Microscope AI</td>\n",
       "      <td>Coefficients</td>\n",
       "      <td>SHAP</td>\n",
       "      <td>https://shap.readthedocs.io/en/latest/index.ht...</td>\n",
       "      <td>&lt;a href=\"https://shap.readthedocs.io/en/lates...</td>\n",
       "    </tr>\n",
       "    <tr>\n",
       "      <th>1</th>\n",
       "      <td>Microscope AI</td>\n",
       "      <td>Visual</td>\n",
       "      <td>SHAP</td>\n",
       "      <td>https://shap.readthedocs.io/en/latest/index.ht...</td>\n",
       "      <td>&lt;a href=\"https://shap.readthedocs.io/en/lates...</td>\n",
       "    </tr>\n",
       "    <tr>\n",
       "      <th>2</th>\n",
       "      <td>Microscope AI</td>\n",
       "      <td>Visual</td>\n",
       "      <td>Partial Dependence plots</td>\n",
       "      <td>https://scikit-learn.org/stable/modules/genera...</td>\n",
       "      <td>&lt;a href=\"https://scikit-learn.org/stable/modu...</td>\n",
       "    </tr>\n",
       "    <tr>\n",
       "      <th>3</th>\n",
       "      <td>Microscope AI</td>\n",
       "      <td>Visual</td>\n",
       "      <td>ALE</td>\n",
       "      <td>https://github.com/SeldonIO/alibi/blob/master/...</td>\n",
       "      <td>&lt;a href=\"https://github.com/SeldonIO/alibi/bl...</td>\n",
       "    </tr>\n",
       "    <tr>\n",
       "      <th>4</th>\n",
       "      <td>Model understating</td>\n",
       "      <td>Coefficients</td>\n",
       "      <td>SHAP</td>\n",
       "      <td>https://shap.readthedocs.io/en/latest/index.ht...</td>\n",
       "      <td>&lt;a href=\"https://shap.readthedocs.io/en/lates...</td>\n",
       "    </tr>\n",
       "    <tr>\n",
       "      <th>5</th>\n",
       "      <td>Model understating</td>\n",
       "      <td>Coefficients</td>\n",
       "      <td>Individual predictions analysis</td>\n",
       "      <td>https://explainerdashboard.readthedocs.io/en/l...</td>\n",
       "      <td>&lt;a href=\"https://explainerdashboard.readthedoc...</td>\n",
       "    </tr>\n",
       "    <tr>\n",
       "      <th>6</th>\n",
       "      <td>Model understating</td>\n",
       "      <td>Coefficients</td>\n",
       "      <td>LIME</td>\n",
       "      <td>https://github.com/marcotcr/lime?ysclid=lde9mm...</td>\n",
       "      <td>&lt;a href=\"https://github.com/marcotcr/lime?ysc...</td>\n",
       "    </tr>\n",
       "    <tr>\n",
       "      <th>7</th>\n",
       "      <td>Model understating</td>\n",
       "      <td>Visual</td>\n",
       "      <td>SHAP</td>\n",
       "      <td>https://shap.readthedocs.io/en/latest/index.ht...</td>\n",
       "      <td>&lt;a href=\"https://shap.readthedocs.io/en/lates...</td>\n",
       "    </tr>\n",
       "    <tr>\n",
       "      <th>8</th>\n",
       "      <td>Model understating</td>\n",
       "      <td>Visual</td>\n",
       "      <td>Partial Dependence plots</td>\n",
       "      <td>https://scikit-learn.org/stable/modules/genera...</td>\n",
       "      <td>&lt;a href=\"https://scikit-learn.org/stable/modu...</td>\n",
       "    </tr>\n",
       "    <tr>\n",
       "      <th>9</th>\n",
       "      <td>Model understating</td>\n",
       "      <td>Visual</td>\n",
       "      <td>Contrafactual explanations</td>\n",
       "      <td>https://interpret.ml/DiCE/dice_ml.html#</td>\n",
       "      <td>&lt;a href=\"https://interpret.ml/DiCE/dice_ml.htm...</td>\n",
       "    </tr>\n",
       "    <tr>\n",
       "      <th>10</th>\n",
       "      <td>Model understating</td>\n",
       "      <td>Visual</td>\n",
       "      <td>Individual changes analysis</td>\n",
       "      <td>https://explainerdashboard.readthedocs.io/en/l...</td>\n",
       "      <td>&lt;a href=\"https://explainerdashboard.readthedoc...</td>\n",
       "    </tr>\n",
       "    <tr>\n",
       "      <th>11</th>\n",
       "      <td>Model understating</td>\n",
       "      <td>Visual</td>\n",
       "      <td>ICE</td>\n",
       "      <td>https://explainerdashboard.readthedocs.io/en/l...</td>\n",
       "      <td>&lt;a href=\"https://explainerdashboard.readthedoc...</td>\n",
       "    </tr>\n",
       "    <tr>\n",
       "      <th>12</th>\n",
       "      <td>Model debugging</td>\n",
       "      <td>Visual</td>\n",
       "      <td>Individual changes analysis</td>\n",
       "      <td>https://explainerdashboard.readthedocs.io/en/l...</td>\n",
       "      <td>&lt;a href=\"https://explainerdashboard.readthedoc...</td>\n",
       "    </tr>\n",
       "    <tr>\n",
       "      <th>13</th>\n",
       "      <td>Model debugging</td>\n",
       "      <td>Visual</td>\n",
       "      <td>Individual predictions analysis</td>\n",
       "      <td>https://explainerdashboard.readthedocs.io/en/l...</td>\n",
       "      <td>&lt;a href=\"https://explainerdashboard.readthedoc...</td>\n",
       "    </tr>\n",
       "    <tr>\n",
       "      <th>14</th>\n",
       "      <td>Model debugging</td>\n",
       "      <td>Visual</td>\n",
       "      <td>Anchors</td>\n",
       "      <td>https://docs.seldon.io/projects/alibi/en/stabl...</td>\n",
       "      <td>&lt;a href=\"https://docs.seldon.io/projects/alibi...</td>\n",
       "    </tr>\n",
       "    <tr>\n",
       "      <th>15</th>\n",
       "      <td>Model debugging</td>\n",
       "      <td>Coefficients</td>\n",
       "      <td>Permutation importances</td>\n",
       "      <td>https://eli5.readthedocs.io/en/latest/</td>\n",
       "      <td>&lt;a href=\"https://eli5.readthedocs.io/en/latest...</td>\n",
       "    </tr>\n",
       "    <tr>\n",
       "      <th>16</th>\n",
       "      <td>Model debugging</td>\n",
       "      <td>Coefficients</td>\n",
       "      <td>SHAP</td>\n",
       "      <td>https://shap.readthedocs.io/en/latest/index.ht...</td>\n",
       "      <td>&lt;a href=\"https://shap.readthedocs.io/en/lates...</td>\n",
       "    </tr>\n",
       "    <tr>\n",
       "      <th>17</th>\n",
       "      <td>Model debugging</td>\n",
       "      <td>Coefficients</td>\n",
       "      <td>Feature Importances</td>\n",
       "      <td>https://github.com/oracle/skater/blob/main/exa...</td>\n",
       "      <td>&lt;a href=\"https://github.com/oracle/skater/blob...</td>\n",
       "    </tr>\n",
       "  </tbody>\n",
       "</table>\n",
       "</div>"
      ],
      "text/plain": [
       "                  Goal        Output                           Method  \\\n",
       "0        Microscope AI  Coefficients                             SHAP   \n",
       "1        Microscope AI        Visual                             SHAP   \n",
       "2        Microscope AI        Visual         Partial Dependence plots   \n",
       "3        Microscope AI        Visual                             ALE    \n",
       "4   Model understating  Coefficients                             SHAP   \n",
       "5   Model understating  Coefficients  Individual predictions analysis   \n",
       "6   Model understating  Coefficients                             LIME   \n",
       "7   Model understating        Visual                             SHAP   \n",
       "8   Model understating        Visual         Partial Dependence plots   \n",
       "9   Model understating        Visual       Contrafactual explanations   \n",
       "10  Model understating        Visual      Individual changes analysis   \n",
       "11  Model understating        Visual                              ICE   \n",
       "12     Model debugging        Visual      Individual changes analysis   \n",
       "13     Model debugging        Visual  Individual predictions analysis   \n",
       "14     Model debugging        Visual                          Anchors   \n",
       "15     Model debugging  Coefficients          Permutation importances   \n",
       "16     Model debugging  Coefficients                             SHAP   \n",
       "17     Model debugging  Coefficients              Feature Importances   \n",
       "\n",
       "                                   Library or example  \\\n",
       "0   https://shap.readthedocs.io/en/latest/index.ht...   \n",
       "1   https://shap.readthedocs.io/en/latest/index.ht...   \n",
       "2   https://scikit-learn.org/stable/modules/genera...   \n",
       "3   https://github.com/SeldonIO/alibi/blob/master/...   \n",
       "4   https://shap.readthedocs.io/en/latest/index.ht...   \n",
       "5   https://explainerdashboard.readthedocs.io/en/l...   \n",
       "6   https://github.com/marcotcr/lime?ysclid=lde9mm...   \n",
       "7   https://shap.readthedocs.io/en/latest/index.ht...   \n",
       "8   https://scikit-learn.org/stable/modules/genera...   \n",
       "9             https://interpret.ml/DiCE/dice_ml.html#   \n",
       "10  https://explainerdashboard.readthedocs.io/en/l...   \n",
       "11  https://explainerdashboard.readthedocs.io/en/l...   \n",
       "12  https://explainerdashboard.readthedocs.io/en/l...   \n",
       "13  https://explainerdashboard.readthedocs.io/en/l...   \n",
       "14  https://docs.seldon.io/projects/alibi/en/stabl...   \n",
       "15             https://eli5.readthedocs.io/en/latest/   \n",
       "16  https://shap.readthedocs.io/en/latest/index.ht...   \n",
       "17  https://github.com/oracle/skater/blob/main/exa...   \n",
       "\n",
       "                         Library or example hyperlink  \n",
       "0    <a href=\"https://shap.readthedocs.io/en/lates...  \n",
       "1    <a href=\"https://shap.readthedocs.io/en/lates...  \n",
       "2    <a href=\"https://scikit-learn.org/stable/modu...  \n",
       "3    <a href=\"https://github.com/SeldonIO/alibi/bl...  \n",
       "4    <a href=\"https://shap.readthedocs.io/en/lates...  \n",
       "5   <a href=\"https://explainerdashboard.readthedoc...  \n",
       "6    <a href=\"https://github.com/marcotcr/lime?ysc...  \n",
       "7    <a href=\"https://shap.readthedocs.io/en/lates...  \n",
       "8    <a href=\"https://scikit-learn.org/stable/modu...  \n",
       "9   <a href=\"https://interpret.ml/DiCE/dice_ml.htm...  \n",
       "10  <a href=\"https://explainerdashboard.readthedoc...  \n",
       "11  <a href=\"https://explainerdashboard.readthedoc...  \n",
       "12  <a href=\"https://explainerdashboard.readthedoc...  \n",
       "13  <a href=\"https://explainerdashboard.readthedoc...  \n",
       "14  <a href=\"https://docs.seldon.io/projects/alibi...  \n",
       "15  <a href=\"https://eli5.readthedocs.io/en/latest...  \n",
       "16   <a href=\"https://shap.readthedocs.io/en/lates...  \n",
       "17  <a href=\"https://github.com/oracle/skater/blob...  "
      ]
     },
     "execution_count": 35,
     "metadata": {},
     "output_type": "execute_result"
    }
   ],
   "source": [
    "general_table"
   ]
  },
  {
   "cell_type": "code",
   "execution_count": 36,
   "id": "47ff8396-9d17-41ed-a4e1-3c7edc6936e5",
   "metadata": {},
   "outputs": [
    {
     "data": {
      "text/html": [
       "<div>\n",
       "<style scoped>\n",
       "    .dataframe tbody tr th:only-of-type {\n",
       "        vertical-align: middle;\n",
       "    }\n",
       "\n",
       "    .dataframe tbody tr th {\n",
       "        vertical-align: top;\n",
       "    }\n",
       "\n",
       "    .dataframe thead th {\n",
       "        text-align: right;\n",
       "    }\n",
       "</style>\n",
       "<table border=\"1\" class=\"dataframe\">\n",
       "  <thead>\n",
       "    <tr style=\"text-align: right;\">\n",
       "      <th></th>\n",
       "      <th>Goal</th>\n",
       "      <th>Output</th>\n",
       "      <th>Method</th>\n",
       "      <th>Library or example hyperlink</th>\n",
       "    </tr>\n",
       "  </thead>\n",
       "  <tbody>\n",
       "    <tr>\n",
       "      <th>0</th>\n",
       "      <td>Microscope AI</td>\n",
       "      <td>Coefficients</td>\n",
       "      <td>SHAP</td>\n",
       "      <td>&lt;a href=\"https://shap.readthedocs.io/en/lates...</td>\n",
       "    </tr>\n",
       "    <tr>\n",
       "      <th>1</th>\n",
       "      <td>Microscope AI</td>\n",
       "      <td>Visual</td>\n",
       "      <td>SHAP</td>\n",
       "      <td>&lt;a href=\"https://shap.readthedocs.io/en/lates...</td>\n",
       "    </tr>\n",
       "    <tr>\n",
       "      <th>2</th>\n",
       "      <td>Microscope AI</td>\n",
       "      <td>Visual</td>\n",
       "      <td>Partial Dependence plots</td>\n",
       "      <td>&lt;a href=\"https://scikit-learn.org/stable/modu...</td>\n",
       "    </tr>\n",
       "    <tr>\n",
       "      <th>3</th>\n",
       "      <td>Microscope AI</td>\n",
       "      <td>Visual</td>\n",
       "      <td>ALE</td>\n",
       "      <td>&lt;a href=\"https://github.com/SeldonIO/alibi/bl...</td>\n",
       "    </tr>\n",
       "    <tr>\n",
       "      <th>4</th>\n",
       "      <td>Model understating</td>\n",
       "      <td>Coefficients</td>\n",
       "      <td>SHAP</td>\n",
       "      <td>&lt;a href=\"https://shap.readthedocs.io/en/lates...</td>\n",
       "    </tr>\n",
       "  </tbody>\n",
       "</table>\n",
       "</div>"
      ],
      "text/plain": [
       "                 Goal        Output                    Method  \\\n",
       "0       Microscope AI  Coefficients                      SHAP   \n",
       "1       Microscope AI        Visual                      SHAP   \n",
       "2       Microscope AI        Visual  Partial Dependence plots   \n",
       "3       Microscope AI        Visual                      ALE    \n",
       "4  Model understating  Coefficients                      SHAP   \n",
       "\n",
       "                        Library or example hyperlink  \n",
       "0   <a href=\"https://shap.readthedocs.io/en/lates...  \n",
       "1   <a href=\"https://shap.readthedocs.io/en/lates...  \n",
       "2   <a href=\"https://scikit-learn.org/stable/modu...  \n",
       "3   <a href=\"https://github.com/SeldonIO/alibi/bl...  \n",
       "4   <a href=\"https://shap.readthedocs.io/en/lates...  "
      ]
     },
     "execution_count": 36,
     "metadata": {},
     "output_type": "execute_result"
    }
   ],
   "source": [
    "general_table2 = pd.read_csv('./data/md_agnostic_table_cleaned.csv')\n",
    "general_table2.head()"
   ]
  },
  {
   "cell_type": "code",
   "execution_count": 37,
   "id": "f6987381-4d4e-4a89-8ad6-4c697d82fc70",
   "metadata": {},
   "outputs": [
    {
     "data": {
      "application/vnd.plotly.v1+json": {
       "config": {
        "plotlyServerURL": "https://plot.ly"
       },
       "data": [
        {
         "cells": {
          "fill": {
           "color": "lavender"
          },
          "values": [
           [
            "Microscope AI",
            "Microscope AI",
            "Microscope AI",
            "Microscope AI",
            "Model understating",
            "Model understating",
            "Model understating",
            "Model understating",
            "Model understating",
            "Model understating",
            "Model understating",
            "Model understating",
            "Model debugging",
            "Model debugging",
            "Model debugging",
            "Model debugging",
            "Model debugging",
            "Model debugging"
           ],
           [
            "Coefficients",
            "Visual",
            "Visual",
            "Visual",
            "Coefficients",
            "Coefficients",
            "Coefficients",
            "Visual",
            "Visual",
            "Visual",
            "Visual",
            "Visual",
            "Visual",
            "Visual",
            "Visual",
            "Coefficients",
            "Coefficients",
            "Coefficients"
           ],
           [
            "SHAP",
            "SHAP",
            "Partial Dependence plots",
            "ALE ",
            "SHAP",
            "Individual predictions analysis",
            "LIME",
            "SHAP",
            "Partial Dependence plots",
            "Contrafactual explanations",
            "Individual changes analysis",
            "ICE",
            "Individual changes analysis",
            "Individual predictions analysis",
            "Anchors",
            "Permutation importances",
            "SHAP",
            "Feature Importances"
           ],
           [
            " <a href=\"https://shap.readthedocs.io/en/latest/index.html\">shap</a>, <a href=\"https://interpret.ml/docs/shap.html\">interpet_ml</a> or see <a href=\"https://explainerdashboard.readthedocs.io/en/latest/dashboards.html\">explainerdashboard</a>",
            " <a href=\"https://shap.readthedocs.io/en/latest/index.html\">shap</a>, <a href=\"https://interpret.ml/docs/shap.html\">interpet_ml</a> or see <a href=\"https://explainerdashboard.readthedocs.io/en/latest/dashboards.html\">explainerdashboard</a>",
            " <a href=\"https://scikit-learn.org/stable/modules/generated/sklearn.inspection.partial_dependence.html#sklearn.inspection.partial_dependence\">sklearn</a>, <a href=\"https://pdpbox.readthedocs.io/en/latest/\">pdp_box</a> or see <a href=\"https://explainerdashboard.readthedocs.io/en/latest/dashboards.html\">explainerdashboard</a>",
            " <a href=\"https://github.com/SeldonIO/alibi/blob/master/doc/source/examples/ale_classification.ipynb\">alibi</a>",
            " <a href=\"https://shap.readthedocs.io/en/latest/index.html\">shap</a>, <a href=\"https://interpret.ml/docs/shap.html\">interpet_ml</a> or see <a href=\"https://explainerdashboard.readthedocs.io/en/latest/dashboards.html\">explainerdashboard</a>",
            "<a href=\"https://explainerdashboard.readthedocs.io/en/latest/dashboards.html\">explainerdashboard</a>",
            " <a href=\"https://github.com/marcotcr/lime?ysclid=lde9mmnb1o897888624\">LIME</a>, <a href=\"https://eli5.readthedocs.io/en/latest/blackbox/lime.html/\">eli5</a> ",
            " <a href=\"https://shap.readthedocs.io/en/latest/index.html\">shap</a>, <a href=\"https://interpret.ml/docs/shap.html\">interpet_ml</a> or see <a href=\"https://explainerdashboard.readthedocs.io/en/latest/dashboards.html\">explainerdashboard</a>",
            " <a href=\"https://scikit-learn.org/stable/modules/generated/sklearn.inspection.partial_dependence.html#sklearn.inspection.partial_dependence\">sklearn</a>, <a href=\"https://pdpbox.readthedocs.io/en/latest/\">pdp_box</a> or see <a href=\"https://explainerdashboard.readthedocs.io/en/latest/dashboards.html\">explainerdashboard</a>",
            "<a href=\"https://interpret.ml/DiCE/dice_ml.html#\">dice_ml</a>",
            "<a href=\"https://explainerdashboard.readthedocs.io/en/latest/dashboards.html\">explainerdashboard</a>",
            "<a href=\"https://explainerdashboard.readthedocs.io/en/latest/dashboards.html\">explainerdashboard</a>",
            "<a href=\"https://explainerdashboard.readthedocs.io/en/latest/dashboards.html\">explainerdashboard</a>",
            "<a href=\"https://explainerdashboard.readthedocs.io/en/latest/dashboards.html\">explainerdashboard</a>",
            "<a href=\"https://docs.seldon.io/projects/alibi/en/stable/explanations/examples.html#anchors\">alibi</a>",
            "<a href=\"https://eli5.readthedocs.io/en/latest/\">eli5</a>",
            " <a href=\"https://shap.readthedocs.io/en/latest/index.html\">shap</a>, <a href=\"https://interpret.ml/docs/shap.html\">interpet_ml</a> or see <a href=\"https://explainerdashboard.readthedocs.io/en/latest/dashboards.html\">explainerdashboard</a>",
            "<a href=\"https://github.com/oracle/skater/blob/main/examples/sklearn-classifiers.ipynb\">eli5</a> or as a method in sklearn.ensemble models, XGBoost, CatBoost and LightGBM packages"
           ]
          ]
         },
         "columnwidth": [
          0.8,
          0.8,
          1,
          3
         ],
         "header": {
          "fill": {
           "color": "pink"
          },
          "values": [
           "<b>Goal</b>",
           "<b>Output</b>",
           "<b>Method</b>",
           "<b>Library or example hyperlink</b>"
          ]
         },
         "type": "table"
        }
       ],
       "layout": {
        "autosize": true,
        "template": {
         "data": {
          "candlestick": [
           {
            "decreasing": {
             "line": {
              "color": "#000033"
             }
            },
            "increasing": {
             "line": {
              "color": "#000032"
             }
            },
            "type": "candlestick"
           }
          ],
          "contour": [
           {
            "colorscale": [
             [
              0,
              "#000011"
             ],
             [
              0.1111111111111111,
              "#000012"
             ],
             [
              0.2222222222222222,
              "#000013"
             ],
             [
              0.3333333333333333,
              "#000014"
             ],
             [
              0.4444444444444444,
              "#000015"
             ],
             [
              0.5555555555555556,
              "#000016"
             ],
             [
              0.6666666666666666,
              "#000017"
             ],
             [
              0.7777777777777778,
              "#000018"
             ],
             [
              0.8888888888888888,
              "#000019"
             ],
             [
              1,
              "#000020"
             ]
            ],
            "type": "contour"
           }
          ],
          "contourcarpet": [
           {
            "colorscale": [
             [
              0,
              "#000011"
             ],
             [
              0.1111111111111111,
              "#000012"
             ],
             [
              0.2222222222222222,
              "#000013"
             ],
             [
              0.3333333333333333,
              "#000014"
             ],
             [
              0.4444444444444444,
              "#000015"
             ],
             [
              0.5555555555555556,
              "#000016"
             ],
             [
              0.6666666666666666,
              "#000017"
             ],
             [
              0.7777777777777778,
              "#000018"
             ],
             [
              0.8888888888888888,
              "#000019"
             ],
             [
              1,
              "#000020"
             ]
            ],
            "type": "contourcarpet"
           }
          ],
          "heatmap": [
           {
            "colorscale": [
             [
              0,
              "#000011"
             ],
             [
              0.1111111111111111,
              "#000012"
             ],
             [
              0.2222222222222222,
              "#000013"
             ],
             [
              0.3333333333333333,
              "#000014"
             ],
             [
              0.4444444444444444,
              "#000015"
             ],
             [
              0.5555555555555556,
              "#000016"
             ],
             [
              0.6666666666666666,
              "#000017"
             ],
             [
              0.7777777777777778,
              "#000018"
             ],
             [
              0.8888888888888888,
              "#000019"
             ],
             [
              1,
              "#000020"
             ]
            ],
            "type": "heatmap"
           }
          ],
          "histogram2d": [
           {
            "colorscale": [
             [
              0,
              "#000011"
             ],
             [
              0.1111111111111111,
              "#000012"
             ],
             [
              0.2222222222222222,
              "#000013"
             ],
             [
              0.3333333333333333,
              "#000014"
             ],
             [
              0.4444444444444444,
              "#000015"
             ],
             [
              0.5555555555555556,
              "#000016"
             ],
             [
              0.6666666666666666,
              "#000017"
             ],
             [
              0.7777777777777778,
              "#000018"
             ],
             [
              0.8888888888888888,
              "#000019"
             ],
             [
              1,
              "#000020"
             ]
            ],
            "type": "histogram2d"
           }
          ],
          "icicle": [
           {
            "textfont": {
             "color": "white"
            },
            "type": "icicle"
           }
          ],
          "sankey": [
           {
            "textfont": {
             "color": "#000036"
            },
            "type": "sankey"
           }
          ],
          "scatter": [
           {
            "marker": {
             "line": {
              "width": 0
             }
            },
            "type": "scatter"
           }
          ],
          "table": [
           {
            "cells": {
             "fill": {
              "color": "#000038"
             },
             "font": {
              "color": "#000037"
             },
             "line": {
              "color": "#000039"
             }
            },
            "header": {
             "fill": {
              "color": "#000040"
             },
             "font": {
              "color": "#000036"
             },
             "line": {
              "color": "#000039"
             }
            },
            "type": "table"
           }
          ],
          "waterfall": [
           {
            "connector": {
             "line": {
              "color": "#000036",
              "width": 2
             }
            },
            "decreasing": {
             "marker": {
              "color": "#000033"
             }
            },
            "increasing": {
             "marker": {
              "color": "#000032"
             }
            },
            "totals": {
             "marker": {
              "color": "#000034"
             }
            },
            "type": "waterfall"
           }
          ]
         },
         "layout": {
          "coloraxis": {
           "colorscale": [
            [
             0,
             "#000011"
            ],
            [
             0.1111111111111111,
             "#000012"
            ],
            [
             0.2222222222222222,
             "#000013"
            ],
            [
             0.3333333333333333,
             "#000014"
            ],
            [
             0.4444444444444444,
             "#000015"
            ],
            [
             0.5555555555555556,
             "#000016"
            ],
            [
             0.6666666666666666,
             "#000017"
            ],
            [
             0.7777777777777778,
             "#000018"
            ],
            [
             0.8888888888888888,
             "#000019"
            ],
            [
             1,
             "#000020"
            ]
           ]
          },
          "colorscale": {
           "diverging": [
            [
             0,
             "#000021"
            ],
            [
             0.1,
             "#000022"
            ],
            [
             0.2,
             "#000023"
            ],
            [
             0.3,
             "#000024"
            ],
            [
             0.4,
             "#000025"
            ],
            [
             0.5,
             "#000026"
            ],
            [
             0.6,
             "#000027"
            ],
            [
             0.7,
             "#000028"
            ],
            [
             0.8,
             "#000029"
            ],
            [
             0.9,
             "#000030"
            ],
            [
             1,
             "#000031"
            ]
           ],
           "sequential": [
            [
             0,
             "#000011"
            ],
            [
             0.1111111111111111,
             "#000012"
            ],
            [
             0.2222222222222222,
             "#000013"
            ],
            [
             0.3333333333333333,
             "#000014"
            ],
            [
             0.4444444444444444,
             "#000015"
            ],
            [
             0.5555555555555556,
             "#000016"
            ],
            [
             0.6666666666666666,
             "#000017"
            ],
            [
             0.7777777777777778,
             "#000018"
            ],
            [
             0.8888888888888888,
             "#000019"
            ],
            [
             1,
             "#000020"
            ]
           ],
           "sequentialminus": [
            [
             0,
             "#000011"
            ],
            [
             0.1111111111111111,
             "#000012"
            ],
            [
             0.2222222222222222,
             "#000013"
            ],
            [
             0.3333333333333333,
             "#000014"
            ],
            [
             0.4444444444444444,
             "#000015"
            ],
            [
             0.5555555555555556,
             "#000016"
            ],
            [
             0.6666666666666666,
             "#000017"
            ],
            [
             0.7777777777777778,
             "#000018"
            ],
            [
             0.8888888888888888,
             "#000019"
            ],
            [
             1,
             "#000020"
            ]
           ]
          },
          "colorway": [
           "#000001",
           "#000002",
           "#000003",
           "#000004",
           "#000005",
           "#000006",
           "#000007",
           "#000008",
           "#000009",
           "#000010"
          ]
         }
        }
       }
      },
      "image/png": "[encoded data removed]",
      "text/html": [
       "<div>                            <div id=\"9c0113ac-552e-4b80-b8c7-4664e220587b\" class=\"plotly-graph-div\" style=\"height:525px; width:100%;\"></div>            <script type=\"text/javascript\">                require([\"plotly\"], function(Plotly) {                    window.PLOTLYENV=window.PLOTLYENV || {};                                    if (document.getElementById(\"9c0113ac-552e-4b80-b8c7-4664e220587b\")) {                    Plotly.newPlot(                        \"9c0113ac-552e-4b80-b8c7-4664e220587b\",                        [{\"cells\":{\"fill\":{\"color\":\"lavender\"},\"values\":[[\"Microscope AI\",\"Microscope AI\",\"Microscope AI\",\"Microscope AI\",\"Model understating\",\"Model understating\",\"Model understating\",\"Model understating\",\"Model understating\",\"Model understating\",\"Model understating\",\"Model understating\",\"Model debugging\",\"Model debugging\",\"Model debugging\",\"Model debugging\",\"Model debugging\",\"Model debugging\"],[\"Coefficients\",\"Visual\",\"Visual\",\"Visual\",\"Coefficients\",\"Coefficients\",\"Coefficients\",\"Visual\",\"Visual\",\"Visual\",\"Visual\",\"Visual\",\"Visual\",\"Visual\",\"Visual\",\"Coefficients\",\"Coefficients\",\"Coefficients\"],[\"SHAP\",\"SHAP\",\"Partial Dependence plots\",\"ALE \",\"SHAP\",\"Individual predictions analysis\",\"LIME\",\"SHAP\",\"Partial Dependence plots\",\"Contrafactual explanations\",\"Individual changes analysis\",\"ICE\",\"Individual changes analysis\",\"Individual predictions analysis\",\"Anchors\",\"Permutation importances\",\"SHAP\",\"Feature Importances\"],[\" \\u003ca href=\\\"https:\\u002f\\u002fshap.readthedocs.io\\u002fen\\u002flatest\\u002findex.html\\\"\\u003eshap\\u003c\\u002fa\\u003e, \\u003ca href=\\\"https:\\u002f\\u002finterpret.ml\\u002fdocs\\u002fshap.html\\\"\\u003einterpet_ml\\u003c\\u002fa\\u003e or see \\u003ca href=\\\"https:\\u002f\\u002fexplainerdashboard.readthedocs.io\\u002fen\\u002flatest\\u002fdashboards.html\\\"\\u003eexplainerdashboard\\u003c\\u002fa\\u003e\",\" \\u003ca href=\\\"https:\\u002f\\u002fshap.readthedocs.io\\u002fen\\u002flatest\\u002findex.html\\\"\\u003eshap\\u003c\\u002fa\\u003e, \\u003ca href=\\\"https:\\u002f\\u002finterpret.ml\\u002fdocs\\u002fshap.html\\\"\\u003einterpet_ml\\u003c\\u002fa\\u003e or see \\u003ca href=\\\"https:\\u002f\\u002fexplainerdashboard.readthedocs.io\\u002fen\\u002flatest\\u002fdashboards.html\\\"\\u003eexplainerdashboard\\u003c\\u002fa\\u003e\",\" \\u003ca href=\\\"https:\\u002f\\u002fscikit-learn.org\\u002fstable\\u002fmodules\\u002fgenerated\\u002fsklearn.inspection.partial_dependence.html#sklearn.inspection.partial_dependence\\\"\\u003esklearn\\u003c\\u002fa\\u003e, \\u003ca href=\\\"https:\\u002f\\u002fpdpbox.readthedocs.io\\u002fen\\u002flatest\\u002f\\\"\\u003epdp_box\\u003c\\u002fa\\u003e or see \\u003ca href=\\\"https:\\u002f\\u002fexplainerdashboard.readthedocs.io\\u002fen\\u002flatest\\u002fdashboards.html\\\"\\u003eexplainerdashboard\\u003c\\u002fa\\u003e\",\" \\u003ca href=\\\"https:\\u002f\\u002fgithub.com\\u002fSeldonIO\\u002falibi\\u002fblob\\u002fmaster\\u002fdoc\\u002fsource\\u002fexamples\\u002fale_classification.ipynb\\\"\\u003ealibi\\u003c\\u002fa\\u003e\",\" \\u003ca href=\\\"https:\\u002f\\u002fshap.readthedocs.io\\u002fen\\u002flatest\\u002findex.html\\\"\\u003eshap\\u003c\\u002fa\\u003e, \\u003ca href=\\\"https:\\u002f\\u002finterpret.ml\\u002fdocs\\u002fshap.html\\\"\\u003einterpet_ml\\u003c\\u002fa\\u003e or see \\u003ca href=\\\"https:\\u002f\\u002fexplainerdashboard.readthedocs.io\\u002fen\\u002flatest\\u002fdashboards.html\\\"\\u003eexplainerdashboard\\u003c\\u002fa\\u003e\",\"\\u003ca href=\\\"https:\\u002f\\u002fexplainerdashboard.readthedocs.io\\u002fen\\u002flatest\\u002fdashboards.html\\\"\\u003eexplainerdashboard\\u003c\\u002fa\\u003e\",\" \\u003ca href=\\\"https:\\u002f\\u002fgithub.com\\u002fmarcotcr\\u002flime?ysclid=lde9mmnb1o897888624\\\"\\u003eLIME\\u003c\\u002fa\\u003e, \\u003ca href=\\\"https:\\u002f\\u002feli5.readthedocs.io\\u002fen\\u002flatest\\u002fblackbox\\u002flime.html\\u002f\\\"\\u003eeli5\\u003c\\u002fa\\u003e \",\" \\u003ca href=\\\"https:\\u002f\\u002fshap.readthedocs.io\\u002fen\\u002flatest\\u002findex.html\\\"\\u003eshap\\u003c\\u002fa\\u003e, \\u003ca href=\\\"https:\\u002f\\u002finterpret.ml\\u002fdocs\\u002fshap.html\\\"\\u003einterpet_ml\\u003c\\u002fa\\u003e or see \\u003ca href=\\\"https:\\u002f\\u002fexplainerdashboard.readthedocs.io\\u002fen\\u002flatest\\u002fdashboards.html\\\"\\u003eexplainerdashboard\\u003c\\u002fa\\u003e\",\" \\u003ca href=\\\"https:\\u002f\\u002fscikit-learn.org\\u002fstable\\u002fmodules\\u002fgenerated\\u002fsklearn.inspection.partial_dependence.html#sklearn.inspection.partial_dependence\\\"\\u003esklearn\\u003c\\u002fa\\u003e, \\u003ca href=\\\"https:\\u002f\\u002fpdpbox.readthedocs.io\\u002fen\\u002flatest\\u002f\\\"\\u003epdp_box\\u003c\\u002fa\\u003e or see \\u003ca href=\\\"https:\\u002f\\u002fexplainerdashboard.readthedocs.io\\u002fen\\u002flatest\\u002fdashboards.html\\\"\\u003eexplainerdashboard\\u003c\\u002fa\\u003e\",\"\\u003ca href=\\\"https:\\u002f\\u002finterpret.ml\\u002fDiCE\\u002fdice_ml.html#\\\"\\u003edice_ml\\u003c\\u002fa\\u003e\",\"\\u003ca href=\\\"https:\\u002f\\u002fexplainerdashboard.readthedocs.io\\u002fen\\u002flatest\\u002fdashboards.html\\\"\\u003eexplainerdashboard\\u003c\\u002fa\\u003e\",\"\\u003ca href=\\\"https:\\u002f\\u002fexplainerdashboard.readthedocs.io\\u002fen\\u002flatest\\u002fdashboards.html\\\"\\u003eexplainerdashboard\\u003c\\u002fa\\u003e\",\"\\u003ca href=\\\"https:\\u002f\\u002fexplainerdashboard.readthedocs.io\\u002fen\\u002flatest\\u002fdashboards.html\\\"\\u003eexplainerdashboard\\u003c\\u002fa\\u003e\",\"\\u003ca href=\\\"https:\\u002f\\u002fexplainerdashboard.readthedocs.io\\u002fen\\u002flatest\\u002fdashboards.html\\\"\\u003eexplainerdashboard\\u003c\\u002fa\\u003e\",\"\\u003ca href=\\\"https:\\u002f\\u002fdocs.seldon.io\\u002fprojects\\u002falibi\\u002fen\\u002fstable\\u002fexplanations\\u002fexamples.html#anchors\\\"\\u003ealibi\\u003c\\u002fa\\u003e\",\"\\u003ca href=\\\"https:\\u002f\\u002feli5.readthedocs.io\\u002fen\\u002flatest\\u002f\\\"\\u003eeli5\\u003c\\u002fa\\u003e\",\" \\u003ca href=\\\"https:\\u002f\\u002fshap.readthedocs.io\\u002fen\\u002flatest\\u002findex.html\\\"\\u003eshap\\u003c\\u002fa\\u003e, \\u003ca href=\\\"https:\\u002f\\u002finterpret.ml\\u002fdocs\\u002fshap.html\\\"\\u003einterpet_ml\\u003c\\u002fa\\u003e or see \\u003ca href=\\\"https:\\u002f\\u002fexplainerdashboard.readthedocs.io\\u002fen\\u002flatest\\u002fdashboards.html\\\"\\u003eexplainerdashboard\\u003c\\u002fa\\u003e\",\"\\u003ca href=\\\"https:\\u002f\\u002fgithub.com\\u002foracle\\u002fskater\\u002fblob\\u002fmain\\u002fexamples\\u002fsklearn-classifiers.ipynb\\\"\\u003eeli5\\u003c\\u002fa\\u003e or as a method in sklearn.ensemble models, XGBoost, CatBoost and LightGBM packages\"]]},\"columnwidth\":[0.8,0.8,1,3],\"header\":{\"fill\":{\"color\":\"pink\"},\"values\":[\"\\u003cb\\u003eGoal\\u003c\\u002fb\\u003e\",\"\\u003cb\\u003eOutput\\u003c\\u002fb\\u003e\",\"\\u003cb\\u003eMethod\\u003c\\u002fb\\u003e\",\"\\u003cb\\u003eLibrary or example hyperlink\\u003c\\u002fb\\u003e\"]},\"type\":\"table\"}],                        {\"template\":{\"data\":{\"candlestick\":[{\"decreasing\":{\"line\":{\"color\":\"#000033\"}},\"increasing\":{\"line\":{\"color\":\"#000032\"}},\"type\":\"candlestick\"}],\"contourcarpet\":[{\"colorscale\":[[0.0,\"#000011\"],[0.1111111111111111,\"#000012\"],[0.2222222222222222,\"#000013\"],[0.3333333333333333,\"#000014\"],[0.4444444444444444,\"#000015\"],[0.5555555555555556,\"#000016\"],[0.6666666666666666,\"#000017\"],[0.7777777777777778,\"#000018\"],[0.8888888888888888,\"#000019\"],[1.0,\"#000020\"]],\"type\":\"contourcarpet\"}],\"contour\":[{\"colorscale\":[[0.0,\"#000011\"],[0.1111111111111111,\"#000012\"],[0.2222222222222222,\"#000013\"],[0.3333333333333333,\"#000014\"],[0.4444444444444444,\"#000015\"],[0.5555555555555556,\"#000016\"],[0.6666666666666666,\"#000017\"],[0.7777777777777778,\"#000018\"],[0.8888888888888888,\"#000019\"],[1.0,\"#000020\"]],\"type\":\"contour\"}],\"heatmap\":[{\"colorscale\":[[0.0,\"#000011\"],[0.1111111111111111,\"#000012\"],[0.2222222222222222,\"#000013\"],[0.3333333333333333,\"#000014\"],[0.4444444444444444,\"#000015\"],[0.5555555555555556,\"#000016\"],[0.6666666666666666,\"#000017\"],[0.7777777777777778,\"#000018\"],[0.8888888888888888,\"#000019\"],[1.0,\"#000020\"]],\"type\":\"heatmap\"}],\"histogram2d\":[{\"colorscale\":[[0.0,\"#000011\"],[0.1111111111111111,\"#000012\"],[0.2222222222222222,\"#000013\"],[0.3333333333333333,\"#000014\"],[0.4444444444444444,\"#000015\"],[0.5555555555555556,\"#000016\"],[0.6666666666666666,\"#000017\"],[0.7777777777777778,\"#000018\"],[0.8888888888888888,\"#000019\"],[1.0,\"#000020\"]],\"type\":\"histogram2d\"}],\"icicle\":[{\"textfont\":{\"color\":\"white\"},\"type\":\"icicle\"}],\"sankey\":[{\"textfont\":{\"color\":\"#000036\"},\"type\":\"sankey\"}],\"scatter\":[{\"marker\":{\"line\":{\"width\":0}},\"type\":\"scatter\"}],\"table\":[{\"cells\":{\"fill\":{\"color\":\"#000038\"},\"font\":{\"color\":\"#000037\"},\"line\":{\"color\":\"#000039\"}},\"header\":{\"fill\":{\"color\":\"#000040\"},\"font\":{\"color\":\"#000036\"},\"line\":{\"color\":\"#000039\"}},\"type\":\"table\"}],\"waterfall\":[{\"connector\":{\"line\":{\"color\":\"#000036\",\"width\":2}},\"decreasing\":{\"marker\":{\"color\":\"#000033\"}},\"increasing\":{\"marker\":{\"color\":\"#000032\"}},\"totals\":{\"marker\":{\"color\":\"#000034\"}},\"type\":\"waterfall\"}]},\"layout\":{\"coloraxis\":{\"colorscale\":[[0.0,\"#000011\"],[0.1111111111111111,\"#000012\"],[0.2222222222222222,\"#000013\"],[0.3333333333333333,\"#000014\"],[0.4444444444444444,\"#000015\"],[0.5555555555555556,\"#000016\"],[0.6666666666666666,\"#000017\"],[0.7777777777777778,\"#000018\"],[0.8888888888888888,\"#000019\"],[1.0,\"#000020\"]]},\"colorscale\":{\"diverging\":[[0.0,\"#000021\"],[0.1,\"#000022\"],[0.2,\"#000023\"],[0.3,\"#000024\"],[0.4,\"#000025\"],[0.5,\"#000026\"],[0.6,\"#000027\"],[0.7,\"#000028\"],[0.8,\"#000029\"],[0.9,\"#000030\"],[1.0,\"#000031\"]],\"sequential\":[[0.0,\"#000011\"],[0.1111111111111111,\"#000012\"],[0.2222222222222222,\"#000013\"],[0.3333333333333333,\"#000014\"],[0.4444444444444444,\"#000015\"],[0.5555555555555556,\"#000016\"],[0.6666666666666666,\"#000017\"],[0.7777777777777778,\"#000018\"],[0.8888888888888888,\"#000019\"],[1.0,\"#000020\"]],\"sequentialminus\":[[0.0,\"#000011\"],[0.1111111111111111,\"#000012\"],[0.2222222222222222,\"#000013\"],[0.3333333333333333,\"#000014\"],[0.4444444444444444,\"#000015\"],[0.5555555555555556,\"#000016\"],[0.6666666666666666,\"#000017\"],[0.7777777777777778,\"#000018\"],[0.8888888888888888,\"#000019\"],[1.0,\"#000020\"]]},\"colorway\":[\"#000001\",\"#000002\",\"#000003\",\"#000004\",\"#000005\",\"#000006\",\"#000007\",\"#000008\",\"#000009\",\"#000010\"]}}},                        {\"responsive\": true}                    ).then(function(){\n",
       "                            \n",
       "var gd = document.getElementById('9c0113ac-552e-4b80-b8c7-4664e220587b');\n",
       "var x = new MutationObserver(function (mutations, observer) {{\n",
       "        var display = window.getComputedStyle(gd).display;\n",
       "        if (!display || display === 'none') {{\n",
       "            console.log([gd, 'removed!']);\n",
       "            Plotly.purge(gd);\n",
       "            observer.disconnect();\n",
       "        }}\n",
       "}});\n",
       "\n",
       "// Listen for the removal of the full notebook cells\n",
       "var notebookContainer = gd.closest('#notebook-container');\n",
       "if (notebookContainer) {{\n",
       "    x.observe(notebookContainer, {childList: true});\n",
       "}}\n",
       "\n",
       "// Listen for the clearing of the current output cell\n",
       "var outputEl = gd.closest('.output');\n",
       "if (outputEl) {{\n",
       "    x.observe(outputEl, {childList: true});\n",
       "}}\n",
       "\n",
       "                        })                };                });            </script>        </div>"
      ]
     },
     "metadata": {},
     "output_type": "display_data"
    }
   ],
   "source": [
    "fig = go.Figure(\n",
    "    data=[\n",
    "        go.Table(\n",
    "            columnwidth = [0.8, 0.8, 1, 3],\n",
    "            header=dict(\n",
    "                values=[f\"<b>{i}</b>\" for i in general_table2.columns.to_list()],\n",
    "                fill_color='pink'\n",
    "                ),\n",
    "            cells=dict(\n",
    "                values=general_table2.transpose(), fill_color='lavender'),\n",
    "            )\n",
    "        ]\n",
    "    )\n",
    "fig.show()"
   ]
  },
  {
   "cell_type": "code",
   "execution_count": 38,
   "id": "e38bfcbf-1560-4099-bba9-cc314554c362",
   "metadata": {},
   "outputs": [
    {
     "data": {
      "text/html": [
       "<div>\n",
       "<style scoped>\n",
       "    .dataframe tbody tr th:only-of-type {\n",
       "        vertical-align: middle;\n",
       "    }\n",
       "\n",
       "    .dataframe tbody tr th {\n",
       "        vertical-align: top;\n",
       "    }\n",
       "\n",
       "    .dataframe thead th {\n",
       "        text-align: right;\n",
       "    }\n",
       "</style>\n",
       "<table border=\"1\" class=\"dataframe\">\n",
       "  <thead>\n",
       "    <tr style=\"text-align: right;\">\n",
       "      <th></th>\n",
       "      <th>Goal</th>\n",
       "      <th>Output</th>\n",
       "      <th>Method</th>\n",
       "      <th>Library or example</th>\n",
       "      <th>Library or example hyperlink</th>\n",
       "    </tr>\n",
       "  </thead>\n",
       "  <tbody>\n",
       "  </tbody>\n",
       "</table>\n",
       "</div>"
      ],
      "text/plain": [
       "Empty DataFrame\n",
       "Columns: [Goal, Output, Method, Library or example, Library or example hyperlink]\n",
       "Index: []"
      ]
     },
     "execution_count": 38,
     "metadata": {},
     "output_type": "execute_result"
    }
   ],
   "source": [
    "general_table.loc[(general_table['Goal'] == 'Microscore AI') & (general_table['Output'] == 'Vizual')]"
   ]
  },
  {
   "cell_type": "code",
   "execution_count": 39,
   "id": "46900df5-8fbd-4c5b-8265-76416ce492a2",
   "metadata": {},
   "outputs": [
    {
     "name": "stderr",
     "output_type": "stream",
     "text": [
      "/var/folders/97/cn0tzgm16wq1pvpg99pl3w8h0000gn/T/ipykernel_14639/3874986007.py:1: SettingWithCopyWarning:\n",
      "\n",
      "\n",
      "A value is trying to be set on a copy of a slice from a DataFrame.\n",
      "Try using .loc[row_indexer,col_indexer] = value instead\n",
      "\n",
      "See the caveats in the documentation: https://pandas.pydata.org/pandas-docs/stable/user_guide/indexing.html#returning-a-view-versus-a-copy\n",
      "\n"
     ]
    }
   ],
   "source": [
    "general_table.query('Goal ==\"Microscore AI\"')['Goal'] = ['Microscope']"
   ]
  },
  {
   "cell_type": "code",
   "execution_count": 40,
   "id": "e8b3b9a3-b7e3-45a5-b3ea-4b31436f426a",
   "metadata": {},
   "outputs": [
    {
     "data": {
      "text/html": [
       "<div>\n",
       "<style scoped>\n",
       "    .dataframe tbody tr th:only-of-type {\n",
       "        vertical-align: middle;\n",
       "    }\n",
       "\n",
       "    .dataframe tbody tr th {\n",
       "        vertical-align: top;\n",
       "    }\n",
       "\n",
       "    .dataframe thead th {\n",
       "        text-align: right;\n",
       "    }\n",
       "</style>\n",
       "<table border=\"1\" class=\"dataframe\">\n",
       "  <thead>\n",
       "    <tr style=\"text-align: right;\">\n",
       "      <th></th>\n",
       "      <th>Model</th>\n",
       "      <th>Method</th>\n",
       "      <th>Examples or library</th>\n",
       "      <th>Hyperlink</th>\n",
       "    </tr>\n",
       "  </thead>\n",
       "  <tbody>\n",
       "    <tr>\n",
       "      <th>0</th>\n",
       "      <td>Linear model (logistic, linear regression)</td>\n",
       "      <td>Diagnostic plots</td>\n",
       "      <td>examples, 2</td>\n",
       "      <td>&lt;a href=\"https://www.kirenz.com/post/2021-11-1...</td>\n",
       "    </tr>\n",
       "    <tr>\n",
       "      <th>1</th>\n",
       "      <td>All classification ml models</td>\n",
       "      <td>Regions of confidence</td>\n",
       "      <td>come soon</td>\n",
       "      <td>come soon</td>\n",
       "    </tr>\n",
       "    <tr>\n",
       "      <th>2</th>\n",
       "      <td>Linear model (logistic, linear regression)</td>\n",
       "      <td>Internal parameters analysis</td>\n",
       "      <td>exmaple</td>\n",
       "      <td>&lt;a href=\"https://maheshwarappa-a.gitbook.io/ex...</td>\n",
       "    </tr>\n",
       "    <tr>\n",
       "      <th>3</th>\n",
       "      <td>Ensemble model (sklearn, CatBoost, XGBoost or ...</td>\n",
       "      <td>Feature importances</td>\n",
       "      <td>come soon</td>\n",
       "      <td>come soon</td>\n",
       "    </tr>\n",
       "    <tr>\n",
       "      <th>4</th>\n",
       "      <td>Naive bayes</td>\n",
       "      <td>Explain math idea of the model</td>\n",
       "      <td>link</td>\n",
       "      <td>&lt;a href=\"https://christophm.github.io/interpre...</td>\n",
       "    </tr>\n",
       "    <tr>\n",
       "      <th>5</th>\n",
       "      <td>Linear model (logistic, linear regression)</td>\n",
       "      <td>Explain math idea of the model</td>\n",
       "      <td>link</td>\n",
       "      <td>&lt;a href=\"https://christophm.github.io/interpre...</td>\n",
       "    </tr>\n",
       "    <tr>\n",
       "      <th>6</th>\n",
       "      <td>KNN</td>\n",
       "      <td>Explain math idea of the model</td>\n",
       "      <td>link</td>\n",
       "      <td>&lt;a href=\"https://christophm.github.io/interpre...</td>\n",
       "    </tr>\n",
       "    <tr>\n",
       "      <th>7</th>\n",
       "      <td>Decision tree</td>\n",
       "      <td>Tree graph analysis</td>\n",
       "      <td>come soon</td>\n",
       "      <td>come soon</td>\n",
       "    </tr>\n",
       "    <tr>\n",
       "      <th>8</th>\n",
       "      <td>All classification models</td>\n",
       "      <td>Missclassification Analysis</td>\n",
       "      <td>come soon</td>\n",
       "      <td>come soon</td>\n",
       "    </tr>\n",
       "  </tbody>\n",
       "</table>\n",
       "</div>"
      ],
      "text/plain": [
       "                                               Model  \\\n",
       "0         Linear model (logistic, linear regression)   \n",
       "1                       All classification ml models   \n",
       "2         Linear model (logistic, linear regression)   \n",
       "3  Ensemble model (sklearn, CatBoost, XGBoost or ...   \n",
       "4                                        Naive bayes   \n",
       "5         Linear model (logistic, linear regression)   \n",
       "6                                                KNN   \n",
       "7                                      Decision tree   \n",
       "8                          All classification models   \n",
       "\n",
       "                           Method Examples or library  \\\n",
       "0                Diagnostic plots         examples, 2   \n",
       "1           Regions of confidence           come soon   \n",
       "2    Internal parameters analysis             exmaple   \n",
       "3             Feature importances           come soon   \n",
       "4  Explain math idea of the model                link   \n",
       "5  Explain math idea of the model                link   \n",
       "6  Explain math idea of the model                link   \n",
       "7             Tree graph analysis           come soon   \n",
       "8     Missclassification Analysis           come soon   \n",
       "\n",
       "                                           Hyperlink  \n",
       "0  <a href=\"https://www.kirenz.com/post/2021-11-1...  \n",
       "1                                          come soon  \n",
       "2  <a href=\"https://maheshwarappa-a.gitbook.io/ex...  \n",
       "3                                          come soon  \n",
       "4  <a href=\"https://christophm.github.io/interpre...  \n",
       "5  <a href=\"https://christophm.github.io/interpre...  \n",
       "6  <a href=\"https://christophm.github.io/interpre...  \n",
       "7                                          come soon  \n",
       "8                                          come soon  "
      ]
     },
     "execution_count": 40,
     "metadata": {},
     "output_type": "execute_result"
    }
   ],
   "source": [
    "df2 = pd.read_csv('./data/md_specific.csv')\n",
    "df2.fillna('come soon', inplace=True)\n",
    "df2.to_csv('./data/md_specific_cleaned.csv', index=False)\n",
    "df2"
   ]
  },
  {
   "cell_type": "code",
   "execution_count": 41,
   "id": "fcfe7a67-9c71-44e5-a19c-a59ef94e3f68",
   "metadata": {},
   "outputs": [
    {
     "data": {
      "application/vnd.plotly.v1+json": {
       "config": {
        "plotlyServerURL": "https://plot.ly"
       },
       "data": [
        {
         "cells": {
          "fill": {
           "color": "lavender"
          },
          "values": [
           [
            "Linear model (logistic, linear regression)",
            "All classification ml models",
            "Linear model (logistic, linear regression)",
            "Ensemble model (sklearn, CatBoost, XGBoost or LGBM)",
            "Naive bayes",
            "Linear model (logistic, linear regression)",
            "KNN",
            "Decision tree",
            "All classification models"
           ],
           [
            "Diagnostic plots",
            "Regions of confidence",
            "Internal parameters analysis",
            "Feature importances",
            "Explain math idea of the model",
            "Explain math idea of the model",
            "Explain math idea of the model",
            "Tree graph analysis",
            "Missclassification Analysis"
           ],
           [
            "examples, 2",
            "come soon",
            "exmaple",
            "come soon",
            "link",
            "link",
            "link",
            "come soon",
            "come soon"
           ],
           [
            "<a href=\"https://www.kirenz.com/post/2021-11-14-linear-regression-diagnostics-in-python/linear-regression-diagnostics-in-python/\">example1</a>, <a href=\"https://www.geeksforgeeks.org/residual-leverage-plot-regression-diagnostic/\">example1</a>",
            "come soon",
            "<a href=\"https://maheshwarappa-a.gitbook.io/explainable-ai-1/interpretable-machine-learning-models/linear-regression/model\">example1</a>",
            "come soon",
            "<a href=\"https://christophm.github.io/interpretable-ml-book/simple.html\">Christoph Molnar book with description</a>",
            "<a href=\"https://christophm.github.io/interpretable-ml-book/simple.html\">Christoph Molnar book with description</a>",
            "<a href=\"https://christophm.github.io/interpretable-ml-book/simple.html\">Christoph Molnar book with description</a>",
            "come soon",
            "come soon"
           ]
          ]
         },
         "columnwidth": [
          0.8,
          0.8,
          1,
          3
         ],
         "header": {
          "fill": {
           "color": "pink"
          },
          "values": [
           "<b>Model</b>",
           "<b>Method</b>",
           "<b>Examples or library</b>",
           "<b>Hyperlink</b>"
          ]
         },
         "type": "table"
        }
       ],
       "layout": {
        "autosize": true,
        "template": {
         "data": {
          "candlestick": [
           {
            "decreasing": {
             "line": {
              "color": "#000033"
             }
            },
            "increasing": {
             "line": {
              "color": "#000032"
             }
            },
            "type": "candlestick"
           }
          ],
          "contour": [
           {
            "colorscale": [
             [
              0,
              "#000011"
             ],
             [
              0.1111111111111111,
              "#000012"
             ],
             [
              0.2222222222222222,
              "#000013"
             ],
             [
              0.3333333333333333,
              "#000014"
             ],
             [
              0.4444444444444444,
              "#000015"
             ],
             [
              0.5555555555555556,
              "#000016"
             ],
             [
              0.6666666666666666,
              "#000017"
             ],
             [
              0.7777777777777778,
              "#000018"
             ],
             [
              0.8888888888888888,
              "#000019"
             ],
             [
              1,
              "#000020"
             ]
            ],
            "type": "contour"
           }
          ],
          "contourcarpet": [
           {
            "colorscale": [
             [
              0,
              "#000011"
             ],
             [
              0.1111111111111111,
              "#000012"
             ],
             [
              0.2222222222222222,
              "#000013"
             ],
             [
              0.3333333333333333,
              "#000014"
             ],
             [
              0.4444444444444444,
              "#000015"
             ],
             [
              0.5555555555555556,
              "#000016"
             ],
             [
              0.6666666666666666,
              "#000017"
             ],
             [
              0.7777777777777778,
              "#000018"
             ],
             [
              0.8888888888888888,
              "#000019"
             ],
             [
              1,
              "#000020"
             ]
            ],
            "type": "contourcarpet"
           }
          ],
          "heatmap": [
           {
            "colorscale": [
             [
              0,
              "#000011"
             ],
             [
              0.1111111111111111,
              "#000012"
             ],
             [
              0.2222222222222222,
              "#000013"
             ],
             [
              0.3333333333333333,
              "#000014"
             ],
             [
              0.4444444444444444,
              "#000015"
             ],
             [
              0.5555555555555556,
              "#000016"
             ],
             [
              0.6666666666666666,
              "#000017"
             ],
             [
              0.7777777777777778,
              "#000018"
             ],
             [
              0.8888888888888888,
              "#000019"
             ],
             [
              1,
              "#000020"
             ]
            ],
            "type": "heatmap"
           }
          ],
          "histogram2d": [
           {
            "colorscale": [
             [
              0,
              "#000011"
             ],
             [
              0.1111111111111111,
              "#000012"
             ],
             [
              0.2222222222222222,
              "#000013"
             ],
             [
              0.3333333333333333,
              "#000014"
             ],
             [
              0.4444444444444444,
              "#000015"
             ],
             [
              0.5555555555555556,
              "#000016"
             ],
             [
              0.6666666666666666,
              "#000017"
             ],
             [
              0.7777777777777778,
              "#000018"
             ],
             [
              0.8888888888888888,
              "#000019"
             ],
             [
              1,
              "#000020"
             ]
            ],
            "type": "histogram2d"
           }
          ],
          "icicle": [
           {
            "textfont": {
             "color": "white"
            },
            "type": "icicle"
           }
          ],
          "sankey": [
           {
            "textfont": {
             "color": "#000036"
            },
            "type": "sankey"
           }
          ],
          "scatter": [
           {
            "marker": {
             "line": {
              "width": 0
             }
            },
            "type": "scatter"
           }
          ],
          "table": [
           {
            "cells": {
             "fill": {
              "color": "#000038"
             },
             "font": {
              "color": "#000037"
             },
             "line": {
              "color": "#000039"
             }
            },
            "header": {
             "fill": {
              "color": "#000040"
             },
             "font": {
              "color": "#000036"
             },
             "line": {
              "color": "#000039"
             }
            },
            "type": "table"
           }
          ],
          "waterfall": [
           {
            "connector": {
             "line": {
              "color": "#000036",
              "width": 2
             }
            },
            "decreasing": {
             "marker": {
              "color": "#000033"
             }
            },
            "increasing": {
             "marker": {
              "color": "#000032"
             }
            },
            "totals": {
             "marker": {
              "color": "#000034"
             }
            },
            "type": "waterfall"
           }
          ]
         },
         "layout": {
          "coloraxis": {
           "colorscale": [
            [
             0,
             "#000011"
            ],
            [
             0.1111111111111111,
             "#000012"
            ],
            [
             0.2222222222222222,
             "#000013"
            ],
            [
             0.3333333333333333,
             "#000014"
            ],
            [
             0.4444444444444444,
             "#000015"
            ],
            [
             0.5555555555555556,
             "#000016"
            ],
            [
             0.6666666666666666,
             "#000017"
            ],
            [
             0.7777777777777778,
             "#000018"
            ],
            [
             0.8888888888888888,
             "#000019"
            ],
            [
             1,
             "#000020"
            ]
           ]
          },
          "colorscale": {
           "diverging": [
            [
             0,
             "#000021"
            ],
            [
             0.1,
             "#000022"
            ],
            [
             0.2,
             "#000023"
            ],
            [
             0.3,
             "#000024"
            ],
            [
             0.4,
             "#000025"
            ],
            [
             0.5,
             "#000026"
            ],
            [
             0.6,
             "#000027"
            ],
            [
             0.7,
             "#000028"
            ],
            [
             0.8,
             "#000029"
            ],
            [
             0.9,
             "#000030"
            ],
            [
             1,
             "#000031"
            ]
           ],
           "sequential": [
            [
             0,
             "#000011"
            ],
            [
             0.1111111111111111,
             "#000012"
            ],
            [
             0.2222222222222222,
             "#000013"
            ],
            [
             0.3333333333333333,
             "#000014"
            ],
            [
             0.4444444444444444,
             "#000015"
            ],
            [
             0.5555555555555556,
             "#000016"
            ],
            [
             0.6666666666666666,
             "#000017"
            ],
            [
             0.7777777777777778,
             "#000018"
            ],
            [
             0.8888888888888888,
             "#000019"
            ],
            [
             1,
             "#000020"
            ]
           ],
           "sequentialminus": [
            [
             0,
             "#000011"
            ],
            [
             0.1111111111111111,
             "#000012"
            ],
            [
             0.2222222222222222,
             "#000013"
            ],
            [
             0.3333333333333333,
             "#000014"
            ],
            [
             0.4444444444444444,
             "#000015"
            ],
            [
             0.5555555555555556,
             "#000016"
            ],
            [
             0.6666666666666666,
             "#000017"
            ],
            [
             0.7777777777777778,
             "#000018"
            ],
            [
             0.8888888888888888,
             "#000019"
            ],
            [
             1,
             "#000020"
            ]
           ]
          },
          "colorway": [
           "#000001",
           "#000002",
           "#000003",
           "#000004",
           "#000005",
           "#000006",
           "#000007",
           "#000008",
           "#000009",
           "#000010"
          ]
         }
        }
       }
      },
      "image/png": "[encoded data removed]",
      "text/html": [
       "<div>                            <div id=\"4f725e53-8bae-41f6-a025-bd6510fe184b\" class=\"plotly-graph-div\" style=\"height:525px; width:100%;\"></div>            <script type=\"text/javascript\">                require([\"plotly\"], function(Plotly) {                    window.PLOTLYENV=window.PLOTLYENV || {};                                    if (document.getElementById(\"4f725e53-8bae-41f6-a025-bd6510fe184b\")) {                    Plotly.newPlot(                        \"4f725e53-8bae-41f6-a025-bd6510fe184b\",                        [{\"cells\":{\"fill\":{\"color\":\"lavender\"},\"values\":[[\"Linear model (logistic, linear regression)\",\"All classification ml models\",\"Linear model (logistic, linear regression)\",\"Ensemble model (sklearn, CatBoost, XGBoost or LGBM)\",\"Naive bayes\",\"Linear model (logistic, linear regression)\",\"KNN\",\"Decision tree\",\"All classification models\"],[\"Diagnostic plots\",\"Regions of confidence\",\"Internal parameters analysis\",\"Feature importances\",\"Explain math idea of the model\",\"Explain math idea of the model\",\"Explain math idea of the model\",\"Tree graph analysis\",\"Missclassification Analysis\"],[\"examples, 2\",\"come soon\",\"exmaple\",\"come soon\",\"link\",\"link\",\"link\",\"come soon\",\"come soon\"],[\"\\u003ca href=\\\"https:\\u002f\\u002fwww.kirenz.com\\u002fpost\\u002f2021-11-14-linear-regression-diagnostics-in-python\\u002flinear-regression-diagnostics-in-python\\u002f\\\"\\u003eexample1\\u003c\\u002fa\\u003e, \\u003ca href=\\\"https:\\u002f\\u002fwww.geeksforgeeks.org\\u002fresidual-leverage-plot-regression-diagnostic\\u002f\\\"\\u003eexample1\\u003c\\u002fa\\u003e\",\"come soon\",\"\\u003ca href=\\\"https:\\u002f\\u002fmaheshwarappa-a.gitbook.io\\u002fexplainable-ai-1\\u002finterpretable-machine-learning-models\\u002flinear-regression\\u002fmodel\\\"\\u003eexample1\\u003c\\u002fa\\u003e\",\"come soon\",\"\\u003ca href=\\\"https:\\u002f\\u002fchristophm.github.io\\u002finterpretable-ml-book\\u002fsimple.html\\\"\\u003eChristoph Molnar book with description\\u003c\\u002fa\\u003e\",\"\\u003ca href=\\\"https:\\u002f\\u002fchristophm.github.io\\u002finterpretable-ml-book\\u002fsimple.html\\\"\\u003eChristoph Molnar book with description\\u003c\\u002fa\\u003e\",\"\\u003ca href=\\\"https:\\u002f\\u002fchristophm.github.io\\u002finterpretable-ml-book\\u002fsimple.html\\\"\\u003eChristoph Molnar book with description\\u003c\\u002fa\\u003e\",\"come soon\",\"come soon\"]]},\"columnwidth\":[0.8,0.8,1,3],\"header\":{\"fill\":{\"color\":\"pink\"},\"values\":[\"\\u003cb\\u003eModel\\u003c\\u002fb\\u003e\",\"\\u003cb\\u003eMethod\\u003c\\u002fb\\u003e\",\"\\u003cb\\u003eExamples or library\\u003c\\u002fb\\u003e\",\"\\u003cb\\u003eHyperlink\\u003c\\u002fb\\u003e\"]},\"type\":\"table\"}],                        {\"template\":{\"data\":{\"candlestick\":[{\"decreasing\":{\"line\":{\"color\":\"#000033\"}},\"increasing\":{\"line\":{\"color\":\"#000032\"}},\"type\":\"candlestick\"}],\"contourcarpet\":[{\"colorscale\":[[0.0,\"#000011\"],[0.1111111111111111,\"#000012\"],[0.2222222222222222,\"#000013\"],[0.3333333333333333,\"#000014\"],[0.4444444444444444,\"#000015\"],[0.5555555555555556,\"#000016\"],[0.6666666666666666,\"#000017\"],[0.7777777777777778,\"#000018\"],[0.8888888888888888,\"#000019\"],[1.0,\"#000020\"]],\"type\":\"contourcarpet\"}],\"contour\":[{\"colorscale\":[[0.0,\"#000011\"],[0.1111111111111111,\"#000012\"],[0.2222222222222222,\"#000013\"],[0.3333333333333333,\"#000014\"],[0.4444444444444444,\"#000015\"],[0.5555555555555556,\"#000016\"],[0.6666666666666666,\"#000017\"],[0.7777777777777778,\"#000018\"],[0.8888888888888888,\"#000019\"],[1.0,\"#000020\"]],\"type\":\"contour\"}],\"heatmap\":[{\"colorscale\":[[0.0,\"#000011\"],[0.1111111111111111,\"#000012\"],[0.2222222222222222,\"#000013\"],[0.3333333333333333,\"#000014\"],[0.4444444444444444,\"#000015\"],[0.5555555555555556,\"#000016\"],[0.6666666666666666,\"#000017\"],[0.7777777777777778,\"#000018\"],[0.8888888888888888,\"#000019\"],[1.0,\"#000020\"]],\"type\":\"heatmap\"}],\"histogram2d\":[{\"colorscale\":[[0.0,\"#000011\"],[0.1111111111111111,\"#000012\"],[0.2222222222222222,\"#000013\"],[0.3333333333333333,\"#000014\"],[0.4444444444444444,\"#000015\"],[0.5555555555555556,\"#000016\"],[0.6666666666666666,\"#000017\"],[0.7777777777777778,\"#000018\"],[0.8888888888888888,\"#000019\"],[1.0,\"#000020\"]],\"type\":\"histogram2d\"}],\"icicle\":[{\"textfont\":{\"color\":\"white\"},\"type\":\"icicle\"}],\"sankey\":[{\"textfont\":{\"color\":\"#000036\"},\"type\":\"sankey\"}],\"scatter\":[{\"marker\":{\"line\":{\"width\":0}},\"type\":\"scatter\"}],\"table\":[{\"cells\":{\"fill\":{\"color\":\"#000038\"},\"font\":{\"color\":\"#000037\"},\"line\":{\"color\":\"#000039\"}},\"header\":{\"fill\":{\"color\":\"#000040\"},\"font\":{\"color\":\"#000036\"},\"line\":{\"color\":\"#000039\"}},\"type\":\"table\"}],\"waterfall\":[{\"connector\":{\"line\":{\"color\":\"#000036\",\"width\":2}},\"decreasing\":{\"marker\":{\"color\":\"#000033\"}},\"increasing\":{\"marker\":{\"color\":\"#000032\"}},\"totals\":{\"marker\":{\"color\":\"#000034\"}},\"type\":\"waterfall\"}]},\"layout\":{\"coloraxis\":{\"colorscale\":[[0.0,\"#000011\"],[0.1111111111111111,\"#000012\"],[0.2222222222222222,\"#000013\"],[0.3333333333333333,\"#000014\"],[0.4444444444444444,\"#000015\"],[0.5555555555555556,\"#000016\"],[0.6666666666666666,\"#000017\"],[0.7777777777777778,\"#000018\"],[0.8888888888888888,\"#000019\"],[1.0,\"#000020\"]]},\"colorscale\":{\"diverging\":[[0.0,\"#000021\"],[0.1,\"#000022\"],[0.2,\"#000023\"],[0.3,\"#000024\"],[0.4,\"#000025\"],[0.5,\"#000026\"],[0.6,\"#000027\"],[0.7,\"#000028\"],[0.8,\"#000029\"],[0.9,\"#000030\"],[1.0,\"#000031\"]],\"sequential\":[[0.0,\"#000011\"],[0.1111111111111111,\"#000012\"],[0.2222222222222222,\"#000013\"],[0.3333333333333333,\"#000014\"],[0.4444444444444444,\"#000015\"],[0.5555555555555556,\"#000016\"],[0.6666666666666666,\"#000017\"],[0.7777777777777778,\"#000018\"],[0.8888888888888888,\"#000019\"],[1.0,\"#000020\"]],\"sequentialminus\":[[0.0,\"#000011\"],[0.1111111111111111,\"#000012\"],[0.2222222222222222,\"#000013\"],[0.3333333333333333,\"#000014\"],[0.4444444444444444,\"#000015\"],[0.5555555555555556,\"#000016\"],[0.6666666666666666,\"#000017\"],[0.7777777777777778,\"#000018\"],[0.8888888888888888,\"#000019\"],[1.0,\"#000020\"]]},\"colorway\":[\"#000001\",\"#000002\",\"#000003\",\"#000004\",\"#000005\",\"#000006\",\"#000007\",\"#000008\",\"#000009\",\"#000010\"]}}},                        {\"responsive\": true}                    ).then(function(){\n",
       "                            \n",
       "var gd = document.getElementById('4f725e53-8bae-41f6-a025-bd6510fe184b');\n",
       "var x = new MutationObserver(function (mutations, observer) {{\n",
       "        var display = window.getComputedStyle(gd).display;\n",
       "        if (!display || display === 'none') {{\n",
       "            console.log([gd, 'removed!']);\n",
       "            Plotly.purge(gd);\n",
       "            observer.disconnect();\n",
       "        }}\n",
       "}});\n",
       "\n",
       "// Listen for the removal of the full notebook cells\n",
       "var notebookContainer = gd.closest('#notebook-container');\n",
       "if (notebookContainer) {{\n",
       "    x.observe(notebookContainer, {childList: true});\n",
       "}}\n",
       "\n",
       "// Listen for the clearing of the current output cell\n",
       "var outputEl = gd.closest('.output');\n",
       "if (outputEl) {{\n",
       "    x.observe(outputEl, {childList: true});\n",
       "}}\n",
       "\n",
       "                        })                };                });            </script>        </div>"
      ]
     },
     "metadata": {},
     "output_type": "display_data"
    }
   ],
   "source": [
    "fig = go.Figure(\n",
    "    data=[\n",
    "        go.Table(\n",
    "            columnwidth = [0.8, 0.8, 1, 3],\n",
    "            header=dict(\n",
    "                values=[f\"<b>{i}</b>\" for i in df2.columns.to_list()],\n",
    "                fill_color='pink'\n",
    "                ),\n",
    "            cells=dict(\n",
    "                values=df2.transpose(), fill_color='lavender'),\n",
    "            )\n",
    "        ]\n",
    "    )\n",
    "fig.show()"
   ]
  },
  {
   "cell_type": "code",
   "execution_count": null,
   "id": "1d97bd04-cbfa-4c2f-9f62-6a9013692699",
   "metadata": {},
   "outputs": [],
   "source": []
  },
  {
   "cell_type": "code",
   "execution_count": null,
   "id": "f4bc047b-d333-4446-bdcf-963d41d7dcdf",
   "metadata": {},
   "outputs": [],
   "source": []
  }
 ],
 "metadata": {
  "kernelspec": {
   "display_name": "Python 3 (ipykernel)",
   "language": "python",
   "name": "python3"
  },
  "language_info": {
   "codemirror_mode": {
    "name": "ipython",
    "version": 3
   },
   "file_extension": ".py",
   "mimetype": "text/x-python",
   "name": "python",
   "nbconvert_exporter": "python",
   "pygments_lexer": "ipython3",
   "version": "3.10.12"
  }
 },
 "nbformat": 4,
 "nbformat_minor": 5
}
